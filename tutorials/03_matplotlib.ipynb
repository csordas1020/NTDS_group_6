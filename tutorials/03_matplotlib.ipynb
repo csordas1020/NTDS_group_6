{
 "cells": [
  {
   "cell_type": "markdown",
   "metadata": {},
   "source": [
    "# [NTDS'18] tutorial 3: Plotting with Matplotlib\n",
    "[ntds'18]: https://github.com/mdeff/ntds_2018\n",
    "\n",
    "[Eda Bayram](http://lts4.epfl.ch/bayram), [EPFL LTS4](http://lts4.epfl.ch).\n",
    "Adapted from [NTDS'17 matplotlib demo](https://github.com/mdeff/ntds_2017/blob/master/demos/05_matplotlib.ipynb)"
   ]
  },
  {
   "cell_type": "markdown",
   "metadata": {},
   "source": [
    "## Ojective\n",
    "\n",
    "In this lab session we will provide a short tutorial on ``Matplotlib``. We will present:\n",
    "\n",
    "1. The ``matplotlib.pyplot`` module that provides a procedural interface similar to that of Matlab\n",
    "2. The Object Oriented API of Matplotlib, which allows for maximum flexibility "
   ]
  },
  {
   "cell_type": "markdown",
   "metadata": {},
   "source": [
    "## 1. The Pyplot API"
   ]
  },
  {
   "cell_type": "code",
   "execution_count": null,
   "metadata": {},
   "outputs": [],
   "source": [
    "import numpy as np\n",
    "import matplotlib.pyplot as plt"
   ]
  },
  {
   "cell_type": "markdown",
   "metadata": {},
   "source": [
    "### Example 1.1: Plot a linear function"
   ]
  },
  {
   "cell_type": "code",
   "execution_count": null,
   "metadata": {},
   "outputs": [],
   "source": [
    "x = np.array([1,2,3,4])\n",
    "y = x + 1\n",
    "plt.plot(x,y)\n",
    "plt.xlabel('$x$')\n",
    "plt.ylabel('$y=x+1$')\n",
    "plt.axis([x.min(), x.max(), y.min(), y.max()]);\n",
    "plt.title('A linear function');\n",
    "\n",
    "plt.show()"
   ]
  },
  {
   "cell_type": "markdown",
   "metadata": {},
   "source": [
    "As you have used before, you may activate inline backend, i.e.,**``%matplotlib inline``**, which directly prints the figure under the cell executed. Then you do not need to run the last line i.e., **``plt.show()``**, to visualize the figure."
   ]
  },
  {
   "cell_type": "markdown",
   "metadata": {},
   "source": [
    "### Example 1.2: Figure and axis properties"
   ]
  },
  {
   "cell_type": "code",
   "execution_count": null,
   "metadata": {},
   "outputs": [],
   "source": [
    "x= np.linspace(0, 2*np.pi, 20)\n",
    "y = np.cos(x);\n",
    "z = np.sin(x)\n",
    "#initiate the figure settings\n",
    "plt.figure(figsize=(10, 6), dpi=80) \n",
    "plt.plot(x, y, color=\"blue\", linewidth=2.5, linestyle=\"--\", label=\"cosine\");\n",
    "plt.plot(x, z, color=\"red\",  linewidth=2.5, linestyle=\"-\", label=\"sine\");\n",
    "plt.legend(loc='upper left');\n",
    "plt.grid();\n",
    "\n",
    "plt.show()"
   ]
  },
  {
   "cell_type": "markdown",
   "metadata": {},
   "source": [
    "### Example 1.3: Subplots"
   ]
  },
  {
   "cell_type": "code",
   "execution_count": null,
   "metadata": {},
   "outputs": [],
   "source": [
    "plt.figure(figsize=(10, 6))\n",
    "\n",
    "# Divide the frame (2x3)\n",
    "plt.subplot(231);\n",
    "plt.scatter(np.random.normal(0,1,1024),np.random.normal(0,1,1024))\n",
    "plt.subplot(232);\n",
    "plt.plot([1,2,3,4])\n",
    "plt.subplot(233);\n",
    "plt.bar(['A', 'B', 'C', 'D'], [10, 20, 30, 40])\n",
    "\n",
    "# Combine with (2x1) layout\n",
    "plt.subplot(212);\n",
    "plt.plot(x,y)\n",
    "plt.suptitle('Supra Title')\n",
    "\n",
    "plt.show()"
   ]
  },
  {
   "cell_type": "markdown",
   "metadata": {},
   "source": [
    "### Example 1.4: Plot the sparsity pattern of a 2-D array."
   ]
  },
  {
   "cell_type": "markdown",
   "metadata": {},
   "source": [
    "Create and plot an adjacency matrix for a graph with 30 nodes."
   ]
  },
  {
   "cell_type": "code",
   "execution_count": null,
   "metadata": {},
   "outputs": [],
   "source": [
    "N = 30 # number of nodes\n",
    "W = np.random.uniform(size=(N, N))  # Fully connected graph.\n",
    "W[W < 0.8] = 0  # Sparse graph.\n",
    "W = W + W.T  # Symmetric graph.\n",
    "np.fill_diagonal(W, 0)  # No self-loops."
   ]
  },
  {
   "cell_type": "code",
   "execution_count": null,
   "metadata": {},
   "outputs": [],
   "source": [
    "# Visualize the sparsity pattern\n",
    "plt.spy(W,markersize=5);\n",
    "plt.show()"
   ]
  },
  {
   "cell_type": "markdown",
   "metadata": {},
   "source": [
    "Visualization of the weight matrix as an image"
   ]
  },
  {
   "cell_type": "code",
   "execution_count": null,
   "metadata": {},
   "outputs": [],
   "source": [
    "plt.imshow(W, cmap=plt.cm.Blues);\n",
    "plt.colorbar();\n",
    "plt.show()"
   ]
  },
  {
   "cell_type": "markdown",
   "metadata": {},
   "source": [
    "### Example 1.5: Plot a histogram"
   ]
  },
  {
   "cell_type": "markdown",
   "metadata": {},
   "source": [
    "Let us plot the degree distribution of the graph we created."
   ]
  },
  {
   "cell_type": "code",
   "execution_count": null,
   "metadata": {},
   "outputs": [],
   "source": [
    "d = (W > 0).sum(axis=0) # number of neighbors for each node\n",
    "plt.hist(d, bins= d.max());\n",
    "plt.axis([0,d.max(),0,10])\n",
    "plt.xticks(np.arange(d.max()+1))\n",
    "plt.grid()\n",
    "plt.xlabel('degrees')\n",
    "plt.ylabel('counts')\n",
    "\n",
    "plt.show()"
   ]
  },
  {
   "cell_type": "markdown",
   "metadata": {},
   "source": [
    "### What else can you plot with Pyplot?"
   ]
  },
  {
   "cell_type": "markdown",
   "metadata": {},
   "source": [
    "Let us have a closer look at what happened when we call ``pyplot`` functions. The first function, e.g.; ``plot()``, ``hist()``, ``imshow()``, creates a figure and each function you call afterwards makes a change on that figure, e.g.; adding lines, adding labels etc. So far we have practiced such simple plots. You can find a full list of all the functions provided by ``Pyplot`` [here](https://matplotlib.org/api/_as_gen/matplotlib.pyplot.html).\n",
    "\n",
    "However, the Object Oriented API of ``Matplotlib`` offers a greater control and flexibility, therefore, it is recommended to new ``Matplotlib`` users to learn how to use it."
   ]
  },
  {
   "cell_type": "markdown",
   "metadata": {},
   "source": [
    "## 2. The Object Oriented API"
   ]
  },
  {
   "cell_type": "markdown",
   "metadata": {
    "collapsed": true
   },
   "source": [
    "Now, we will create some ``Figure`` and ``Axes`` objects and directly deal with those in an object-oriented manner to customize our plots.\n",
    "\n",
    "The ``Axes`` represents each individual plot. The axes class will be your \"best friend\" for creating plots with the OO API and you can find out more about it [here](https://matplotlib.org/api/axes_api.html).\n",
    "\n",
    "The ``Figure`` will be the final \"picture\". A ``Figure`` may contain one or more plots. Read further [here](https://matplotlib.org/api/_as_gen/matplotlib.figure.Figure.html#matplotlib.figure.Figure)."
   ]
  },
  {
   "cell_type": "markdown",
   "metadata": {},
   "source": [
    "### Example 2.1: Use Pyplot to create Axes object"
   ]
  },
  {
   "cell_type": "code",
   "execution_count": null,
   "metadata": {},
   "outputs": [],
   "source": [
    "import matplotlib as mpl\n",
    "\n",
    "ax = plt.subplot(111)\n",
    "ax.plot(x,y,'.-', markersize=10,color='b')\n",
    "# Let us add a line indicating \n",
    "ax.add_line(mpl.lines.Line2D(x,np.zeros(x.shape),color='r', linestyle='--'));\n",
    "ax.set_title('Cosine function')\n",
    "ax.set_xlabel('$x$')\n",
    "ax.set_ylabel('$\\sin(x)$');\n",
    "plt.show()"
   ]
  },
  {
   "cell_type": "code",
   "execution_count": null,
   "metadata": {},
   "outputs": [],
   "source": [
    "print(type(ax))"
   ]
  },
  {
   "cell_type": "code",
   "execution_count": null,
   "metadata": {},
   "outputs": [],
   "source": [
    "# see all the attributes and operations defined for ax object\n",
    "dir(ax)"
   ]
  },
  {
   "cell_type": "code",
   "execution_count": null,
   "metadata": {},
   "outputs": [],
   "source": [
    "ax.figure.savefig('cosine.pdf')"
   ]
  },
  {
   "cell_type": "markdown",
   "metadata": {},
   "source": [
    "Open the file `sine.pdf` to see the plot that you saved."
   ]
  },
  {
   "cell_type": "code",
   "execution_count": null,
   "metadata": {},
   "outputs": [],
   "source": [
    "import IPython.display as ipd\n",
    "ipd.IFrame('cosine.pdf', width=600, height=300) "
   ]
  },
  {
   "cell_type": "markdown",
   "metadata": {},
   "source": [
    "### Example 2.2: Interactive Plotting"
   ]
  },
  {
   "cell_type": "code",
   "execution_count": null,
   "metadata": {},
   "outputs": [],
   "source": [
    "#activate the nbagg backend, which enables interactivity within the Jupyter Notebook\n",
    "%matplotlib nbagg"
   ]
  },
  {
   "cell_type": "markdown",
   "metadata": {},
   "source": [
    "Let us create a **``Figure``** object using pyplot and interactively play on it."
   ]
  },
  {
   "cell_type": "code",
   "execution_count": null,
   "metadata": {},
   "outputs": [],
   "source": [
    "fig = plt.figure()"
   ]
  },
  {
   "cell_type": "markdown",
   "metadata": {},
   "source": [
    "#### A: Add an axes instance on the figure with ``add_subplot``"
   ]
  },
  {
   "cell_type": "code",
   "execution_count": null,
   "metadata": {},
   "outputs": [],
   "source": [
    "ax1 = fig.add_subplot(121)\n",
    "ax1.plot(x,y)\n",
    "ax1.set_title('Cosine')\n",
    "ax2 = fig.add_subplot(122)\n",
    "ax2.plot(x,z);\n",
    "ax2.set_title('Sine');"
   ]
  },
  {
   "cell_type": "code",
   "execution_count": null,
   "metadata": {},
   "outputs": [],
   "source": [
    "# see the list of axes on the figure\n",
    "fig.axes"
   ]
  },
  {
   "cell_type": "markdown",
   "metadata": {},
   "source": [
    "With **``axes.delaxes()``** you will remove the axes object from the figure."
   ]
  },
  {
   "cell_type": "code",
   "execution_count": null,
   "metadata": {},
   "outputs": [],
   "source": [
    "fig.delaxes(ax1)\n",
    "fig.delaxes(ax2)"
   ]
  },
  {
   "cell_type": "markdown",
   "metadata": {},
   "source": [
    "#### B: Add an axes instance on the figure with ``add_axes``"
   ]
  },
  {
   "cell_type": "code",
   "execution_count": null,
   "metadata": {},
   "outputs": [],
   "source": [
    "ax1 = fig.add_axes([0.1,0.1,.5,.5])\n",
    "ax1.plot(x,y);"
   ]
  },
  {
   "cell_type": "markdown",
   "metadata": {},
   "source": [
    "**``add_axes()``** gives more flexibility on the placement of the axis."
   ]
  },
  {
   "cell_type": "code",
   "execution_count": null,
   "metadata": {},
   "outputs": [],
   "source": [
    "ax2 = fig.add_axes([0.2,0.2,.5,.5])\n",
    "ax2.plot(x,z);"
   ]
  },
  {
   "cell_type": "code",
   "execution_count": null,
   "metadata": {},
   "outputs": [],
   "source": [
    "# operations iterating over the axes\n",
    "for ax in fig.axes:\n",
    "    ax.grid(True)"
   ]
  },
  {
   "cell_type": "markdown",
   "metadata": {},
   "source": [
    "With ``axes.clear()`` you will clear the content of the figure."
   ]
  },
  {
   "cell_type": "code",
   "execution_count": null,
   "metadata": {},
   "outputs": [],
   "source": [
    "ax1.clear();\n",
    "ax2.clear();"
   ]
  },
  {
   "cell_type": "markdown",
   "metadata": {},
   "source": [
    "Now, you can spend some time to create you own plots with `Matplotlib`. Have fun!"
   ]
  },
  {
   "cell_type": "code",
   "execution_count": null,
   "metadata": {},
   "outputs": [],
   "source": [
    "#your code here"
   ]
  }
 ],
 "metadata": {
  "kernelspec": {
   "display_name": "Python 3",
   "language": "python",
   "name": "python3"
  },
  "language_info": {
   "codemirror_mode": {
    "name": "ipython",
    "version": 3
   },
   "file_extension": ".py",
   "mimetype": "text/x-python",
   "name": "python",
   "nbconvert_exporter": "python",
   "pygments_lexer": "ipython3",
   "version": "3.7.0"
  }
 },
 "nbformat": 4,
 "nbformat_minor": 2
}
