{
 "cells": [
  {
   "cell_type": "markdown",
   "metadata": {},
   "source": [
    "# [NTDS'18] milestone 3: spectral graph theory\n",
    "[ntds'18]: https://github.com/mdeff/ntds_2018\n",
    "\n",
    "[Michaël Defferrard](http://deff.ch), [EPFL LTS2](https://lts2.epfl.ch)"
   ]
  },
  {
   "cell_type": "markdown",
   "metadata": {},
   "source": [
    "---\n",
    "## Students\n",
    "\n",
    "* Team: 6\n",
    "* Students: Gabor Csordas, Maëlle Le Clainche, Nicolas Fontbonne, Marie Sadler\n",
    "* Dataset: Flights routes"
   ]
  },
  {
   "cell_type": "markdown",
   "metadata": {},
   "source": [
    "---\n",
    "## Rules\n",
    "\n",
    "* Milestones have to be completed by teams. No collaboration between teams is allowed.\n",
    "* Textual answers shall be short. Typically one to two sentences.\n",
    "* Code has to be clean.\n",
    "* You cannot import any other library than we imported.\n",
    "* When submitting, the notebook is executed and the results are stored. I.e., if you open the notebook again it should show numerical results and plots. We won't be able to execute your notebooks.\n",
    "* The notebook is re-executed from a blank state before submission. That is to be sure it is reproducible. You can click \"Kernel\" then \"Restart & Run All\" in Jupyter."
   ]
  },
  {
   "cell_type": "markdown",
   "metadata": {},
   "source": [
    "---\n",
    "## Objective\n",
    "\n",
    "The goal of this milestone is to get familiar with the graph Laplacian and its spectral decomposition."
   ]
  },
  {
   "cell_type": "markdown",
   "metadata": {},
   "source": [
    "---\n",
    "## 0 Load your network"
   ]
  },
  {
   "cell_type": "code",
   "execution_count": 1,
   "metadata": {},
   "outputs": [],
   "source": [
    "%matplotlib inline"
   ]
  },
  {
   "cell_type": "markdown",
   "metadata": {},
   "source": [
    "*If you get a `No module named 'sklearn'` error when running the below cell, install [scikit-learn](https://scikit-learn.org) with `conda install scikit-learn` (after activating the `ntds_2018` environment).*"
   ]
  },
  {
   "cell_type": "code",
   "execution_count": 2,
   "metadata": {},
   "outputs": [],
   "source": [
    "import numpy as np\n",
    "from scipy import sparse\n",
    "from scipy import linalg\n",
    "import scipy.sparse.linalg\n",
    "import matplotlib as mpl\n",
    "mpl.style.use('seaborn')\n",
    "import matplotlib.pyplot as plt\n",
    "from sklearn.cluster import KMeans\n",
    "# for ground truth checking\n",
    "import pandas as pd"
   ]
  },
  {
   "cell_type": "markdown",
   "metadata": {},
   "source": [
    "*Let's denote your graph as $\\mathcal{G} = (\\mathcal{V}, \\mathcal{E}, A)$, where $\\mathcal{V}$ is the set of nodes, $\\mathcal{E}$ is the set of edges, $A \\in \\mathbb{R}^{N \\times N}$ is the (weighted) adjacency matrix, and $N = |\\mathcal{V}|$ is the number of nodes.*\n",
    "\n",
    "*Import the adjacency matrix $A$ that you constructed in the first milestone.\n",
    "(You're allowed to update it between milestones if you want to.)*"
   ]
  },
  {
   "cell_type": "code",
   "execution_count": 3,
   "metadata": {},
   "outputs": [],
   "source": [
    "adjacency =  np.load(\"adjacency.npy\")\n",
    "adjacency_unweighted = np.copy(adjacency)\n",
    "adjacency_unweighted[adjacency_unweighted!=0]=1\n",
    "degrees = np.sum(adjacency_unweighted, axis = 0)\n",
    "n_nodes =  adjacency_unweighted.shape[0]\n",
    "## We are removing those edges where the weight is smaller thane the threshold\n",
    "threshold = 20\n",
    "node_map = np.where(degrees >= threshold)[0]\n",
    "adjacency_th = np.delete(adjacency_unweighted,np.where(degrees < threshold),0)\n",
    "adjacency_th = np.delete(adjacency_th,np.where(degrees < threshold),1)\n",
    "degrees_th = np.sum(adjacency_th, axis = 0)\n",
    "n_nodes_th = adjacency_th.shape[0]\n",
    "\n",
    "adjacency_csr = sparse.csr_matrix(adjacency_unweighted);\n",
    "degree_matrix_csc = sparse.diags(degrees,format = \"csc\")"
   ]
  },
  {
   "cell_type": "markdown",
   "metadata": {},
   "source": [
    "---\n",
    "## 1 Graph Laplacian"
   ]
  },
  {
   "cell_type": "markdown",
   "metadata": {},
   "source": [
    "---\n",
    "### Question 1\n",
    "\n",
    "*From the (weighted) adjacency matrix $A$, compute both the combinatorial (also called unnormalized) and the normalized graph Laplacian matrices.*\n",
    "\n",
    "*Note: if your graph is weighted, use the weighted adjacency matrix. If not, use the binary adjacency matrix.*\n",
    "\n",
    "*For efficient storage and computation, store these sparse matrices in a [compressed sparse row (CSR) format](https://en.wikipedia.org/wiki/Sparse_matrix#Compressed_sparse_row_.28CSR.2C_CRS_or_Yale_format.29).*"
   ]
  },
  {
   "cell_type": "code",
   "execution_count": 4,
   "metadata": {},
   "outputs": [],
   "source": [
    "laplacian_combinatorial_csr =  sparse.csr_matrix(degree_matrix_csc - adjacency_csr);\n",
    "inv_degree_matrix_csr = sparse.linalg.inv(degree_matrix_csc).tocsr()\n",
    "sqrt_inv_degree_matrix_csr = sparse.csr_matrix.sqrt(inv_degree_matrix_csr)\n",
    "laplacian_normalized_csr = sqrt_inv_degree_matrix_csr * laplacian_combinatorial_csr * sqrt_inv_degree_matrix_csr"
   ]
  },
  {
   "cell_type": "markdown",
   "metadata": {},
   "source": [
    "*Use one of them as the graph Laplacian $L$ for the rest of the milestone.\n",
    "We however encourage you to run the code with both to get a sense of the difference!*"
   ]
  },
  {
   "cell_type": "code",
   "execution_count": 5,
   "metadata": {},
   "outputs": [],
   "source": [
    "laplacian = laplacian_normalized_csr"
   ]
  },
  {
   "cell_type": "markdown",
   "metadata": {},
   "source": [
    "---\n",
    "### Question 2\n",
    "\n",
    "*Compute the eigendecomposition of the Laplacian $L = U^\\top \\Lambda U$, where the columns $u_k \\in \\mathbb{R}^N$ of $U = [u_1, \\dots, u_N] \\in \\mathbb{R}^{N \\times N}$ are the eigenvectors and the diagonal elements $\\lambda_k = \\Lambda_{kk}$ are the corresponding eigenvalues.*\n",
    "\n",
    "*Make sure that the eigenvalues are ordered, i.e., $0 = \\lambda_1 \\leq \\lambda_2 \\leq \\dots \\leq \\lambda_N$.*"
   ]
  },
  {
   "cell_type": "code",
   "execution_count": 6,
   "metadata": {},
   "outputs": [],
   "source": [
    "[eigenvalues, eigenvectors] = scipy.linalg.eigh(laplacian_normalized_csr.toarray())\n",
    "#This function will not return the first 0 because it is assuming it is always there. \n",
    "#So when we now look at eigenvalues we had not to forget that there is one more 0.\n",
    "sortID = np.argsort(eigenvalues)\n",
    "eigenvalues = eigenvalues[sortID]\n",
    "eigenvalues[eigenvalues < 10**(-10)] = 0\n",
    "\n",
    "eigenvectors = eigenvectors[:,sortID]\n",
    "eigenvectors[eigenvectors < 10**(-10)] = 0"
   ]
  },
  {
   "cell_type": "markdown",
   "metadata": {},
   "source": [
    "* *Justify your choice of eigensolver.*"
   ]
  },
  {
   "cell_type": "markdown",
   "metadata": {},
   "source": [
    "**Answer**\n",
    "\n",
    "\n",
    "The Laplacian is always a symmetric real valued matrix and therefore a Hermitian matrix as well. So we can use the solver for sparse Hermitian matrices."
   ]
  },
  {
   "cell_type": "markdown",
   "metadata": {},
   "source": [
    "---\n",
    "### Question 3\n",
    "\n",
    "* *We can write $L = S S^\\top$. What is the matrix $S$? What does $S^\\top x$, with $x \\in \\mathbb{R}^N$, compute?*"
   ]
  },
  {
   "cell_type": "markdown",
   "metadata": {},
   "source": [
    "**Answer**\n",
    "\n",
    "The matrix S is the incidence matrix having as rows the nodes and as columns the edges ($S \\in \\mathbb{R}^{NxM}$, N the number of nodes and M the number of edges). For an unweighted graph, $S_{i,j}$ = 1, for an edge $e_j$ between two vertexes $v_{i,k}$, -1 for $e_j$ between $v_{k,i}$ and 0 otherwise (the choice of sign is arbitrary, but it has to be once positive and once negative for a given edge). For a weighted graph, the entries are $\\sqrt{w_{i,k}}$ and $-\\sqrt{w_{i,k}}$, instead of +1 and -1, respectively. \n",
    "\n",
    "$S^\\top$ acts as a graph gradient, and $S^\\top x$ for a weighted graph computes:\n",
    "\n",
    "\\begin{equation}\n",
    "(S^\\top x )[j]= \\sqrt{w_{i,k}} (x[i] - x[k])\n",
    "\\end{equation}\n",
    "\n",
    "which corresponds to the derivative of x along edge j"
   ]
  },
  {
   "cell_type": "markdown",
   "metadata": {},
   "source": [
    "---\n",
    "### Question 4\n",
    "\n",
    "* *Show that $\\lambda_k = \\| S^\\top u_k \\|_2^2$, where $\\| \\cdot \\|_2^2$ denotes the squared Euclidean norm (a.k.a. squared $L^2$ norm).*"
   ]
  },
  {
   "cell_type": "markdown",
   "metadata": {},
   "source": [
    "**Answer**\n",
    "\n",
    "\\begin{equation} \n",
    "\\begin{split}\n",
    "\\lambda_k & = u_k^\\top L u_k \\text{, result of the eigendecomposition of $L$ with $u_k$ being a unit-vector}\\\\ \n",
    " & = u_k^\\top S S^\\top  u_k \\text{      , with $L = S S^\\top$}\\\\\n",
    " & = (S^\\top u_k)^\\top S^\\top  u_k \\text{        , where the order of factors reverses when taking the transpose}\\\\\n",
    " & =\\| S^\\top u_k \\|_2^2 \\text{     , with $x^\\top x$ being the squared Euclidean norm}\\\\\n",
    "\\end{split}\n",
    "\\end{equation} "
   ]
  },
  {
   "cell_type": "markdown",
   "metadata": {},
   "source": [
    "* *What does the quantity $\\| S^\\top x \\|_2^2$ tell us about $x$?*"
   ]
  },
  {
   "cell_type": "markdown",
   "metadata": {},
   "source": [
    "**Answer**\n",
    "\n",
    "This quantity tells us how \"smooth\" x is, i.e. a larger quantity means a higher variation among the x vector components."
   ]
  },
  {
   "cell_type": "markdown",
   "metadata": {},
   "source": [
    "---\n",
    "### Question 5\n",
    "\n",
    "* *What is the value of $u_0$, both for the combinatorial and normalized Laplacians?*"
   ]
  },
  {
   "cell_type": "markdown",
   "metadata": {},
   "source": [
    "**Answer**\n",
    "\n",
    " * **Combinatorial Laplacian**\n",
    "\n",
    "$u_0$ corresponds to the eigenvalue 0 and cannot be 0. From the definition of the eigendecomposition we have:\n",
    "\n",
    "\\begin{equation}\n",
    "L u_0 = \\lambda_0 u_0 = 0 \n",
    "\\end{equation}\n",
    "\n",
    "Multiply by $u_0^\\top$ gives: \n",
    "\\begin{equation}\n",
    "u_0^\\top L u_0 = u_0^\\top \\cdot 0 = 0\n",
    "\\end{equation}\n",
    "\n",
    "Since $u_0^\\top L u_0$ is defined as follows:\n",
    "\\begin{equation}\n",
    "u_0^\\top L u_0 = \\frac{1}{2} \\sum_{\\substack{u,v} \\in E} w_{u,v}(u_0[u]-u_0[v])^2\n",
    "\\end{equation}\n",
    "\n",
    "We get: \n",
    "\\begin{equation}\n",
    "\\sum_{\\substack{u,v} \\in E} w_{u,v}(u_0[u]-u_0[v])^2 = 0 \n",
    "\\end{equation}\n",
    "\n",
    "For this equation to hold, we need to have $u_0[u] = u_0[v]$ for any edge (u,v) $\\in E$. In the case where the graph is connected, we get that $u_0[i] = u_0[k]$ for every i,k $\\in V$. From this we get that $u_0$ equals: \n",
    "\\begin{align}\n",
    "    u_0 &= \\alpha \\begin{bmatrix}\n",
    "           1 \\\\\n",
    "           1 \\\\\n",
    "           \\vdots \\\\\n",
    "           1\n",
    "         \\end{bmatrix}\n",
    "  \\end{align}\n",
    "\n",
    "with $\\alpha \\in \\mathbb{R}^*$, or to have a unit vector, $\\alpha$ needs to equal $\\alpha = \\frac{1}{\\sqrt{N}}$, where $N$ is the number of connected nodes. Thus, the value of $u_0$ is the unit vector $e$. \n",
    "\n",
    "- **Normalized Laplacian**\n",
    "\n",
    "Let's call $u_0'$ the eigenvector of the normalized Laplacian $L_{norm}$.\n",
    "\n",
    "From the theory, we know that $u_0' = D^{\\frac{1}{2}} u_0$, and hence $u_0' =  D^{\\frac{1}{2}} e$ is the eigenvector of $L_{norm}$ of eigenvalue 0."
   ]
  },
  {
   "cell_type": "markdown",
   "metadata": {},
   "source": [
    "---\n",
    "### Question 6\n",
    "\n",
    "- *Look at the spectrum of the Laplacian by plotting the eigenvalues.\n",
    "Comment on what you observe.*"
   ]
  },
  {
   "cell_type": "code",
   "execution_count": 7,
   "metadata": {},
   "outputs": [
    {
     "data": {
      "text/plain": [
       "[<matplotlib.lines.Line2D at 0x124954828>]"
      ]
     },
     "execution_count": 7,
     "metadata": {},
     "output_type": "execute_result"
    },
    {
     "data": {
      "image/png": "[encoded data removed]",
      "text/plain": [
       "<Figure size 576x396 with 1 Axes>"
      ]
     },
     "metadata": {},
     "output_type": "display_data"
    }
   ],
   "source": [
    "plt.plot(eigenvalues.real, \"b.\" , markersize = 1)"
   ]
  },
  {
   "cell_type": "markdown",
   "metadata": {},
   "source": [
    "**Answer**\n",
    "## TODO\n",
    "As espected the eigenvalues are in the domain $[0,2]$. The first eigenvalues equals to 0 represents the different connected componnent. \n",
    "We can observe a lot of eigenvalues share the value of one. These represent the ... "
   ]
  },
  {
   "cell_type": "markdown",
   "metadata": {},
   "source": [
    "- *How many connected components are there in your graph? Answer using the eigenvalues only.*"
   ]
  },
  {
   "cell_type": "code",
   "execution_count": 8,
   "metadata": {},
   "outputs": [
    {
     "name": "stdout",
     "output_type": "stream",
     "text": [
      "Number of connected components: 8\n"
     ]
    }
   ],
   "source": [
    "n_conn_comp = eigenvalues[eigenvalues == 0].shape[0]\n",
    "print(\"Number of connected components:\",n_conn_comp)"
   ]
  },
  {
   "cell_type": "markdown",
   "metadata": {},
   "source": [
    "Their is **8** connected components."
   ]
  },
  {
   "cell_type": "markdown",
   "metadata": {},
   "source": [
    "- *Is there an upper bound on the eigenvalues, i.e., what is the largest possible eigenvalue? Answer for both the combinatorial and normalized Laplacians.*"
   ]
  },
  {
   "cell_type": "markdown",
   "metadata": {},
   "source": [
    "**Answer**\n",
    "\n",
    "## TODO\n",
    "For the normalized Laplacians, the largest possible eigenvalue is 2 if and only if a connected component of G is bipartite and nontrivial.\n",
    "\n",
    "For the combinatorial Laplacians, ..."
   ]
  },
  {
   "cell_type": "markdown",
   "metadata": {},
   "source": [
    "---\n",
    "## 3 Laplacian eigenmaps\n",
    "\n",
    "*Laplacian eigenmaps* is a method to embed a graph $\\mathcal{G}$ in a $d$-dimensional Euclidean space.\n",
    "That is, it associates a vector $z_i \\in \\mathbb{R}^d$ to every node $v_i \\in \\mathcal{V}$.\n",
    "The graph $\\mathcal{G}$ is thus embedded as $Z \\in \\mathbb{R}^{N \\times d}$."
   ]
  },
  {
   "cell_type": "markdown",
   "metadata": {},
   "source": [
    "---\n",
    "### Question 7\n",
    "\n",
    "* *What do we use Laplacian eigenmaps for? (Or more generally, graph embeddings.)*"
   ]
  },
  {
   "cell_type": "markdown",
   "metadata": {},
   "source": [
    "**Answer**\n",
    "\n",
    "We use Laplacian eigenmaps for **dimensionality reduction**. Often, graph data is intrinsically low dimensional, but lies in a very high-dimensional space. Thus, **mapping a network to a vector space and reducing the dimension, while preserving relevant graph properties**, can be useful for faster **computation, machine learning algorithms, statistics, or visualization**.  "
   ]
  },
  {
   "cell_type": "markdown",
   "metadata": {},
   "source": [
    "---\n",
    "### Question 8\n",
    "\n",
    "*Embed your graph in $d=2$ dimensions with Laplacian eigenmaps.\n",
    "Try with and without re-normalizing the eigenvectors by the degrees, then keep the one your prefer.*\n",
    "\n",
    "*Recompute the eigenvectors you need with a partial eigendecomposition method for sparse matrices.\n",
    "When $k \\ll N$ eigenvectors are needed, partial eigendecompositions are much more efficient than complete eigendecompositions.\n",
    "A partial eigendecomposition scales as $\\Omega(k |\\mathcal{E}|$), while a complete eigendecomposition costs $\\mathcal{O}(N^3)$ operations.*"
   ]
  },
  {
   "cell_type": "code",
   "execution_count": 9,
   "metadata": {},
   "outputs": [],
   "source": [
    "#Creating the matrix in the good format\n",
    "adjacency_lc_csr = sparse.csr_matrix(adjacency_th);\n",
    "degrees_lc = np.sum(adjacency_th, axis = 0)\n",
    "degree_matrix_lc_csc = sparse.diags(degrees_lc,format = \"csc\")\n",
    "n_nodes_lc =  degrees_lc.shape[0]\n",
    "\n",
    "#Computation of the laplacian for our graph\n",
    "laplacian_combinatorial_lc_csr =  sparse.csr_matrix(degree_matrix_lc_csc - adjacency_lc_csr);\n",
    "inv_degree_matrix_lc_csr = sparse.linalg.inv(degree_matrix_lc_csc).tocsr()\n",
    "sqrt_inv_degree_matrix_lc_csr = sparse.csr_matrix.sqrt(inv_degree_matrix_lc_csr)\n",
    "laplacian_normalized_lc_csr = sqrt_inv_degree_matrix_lc_csr * laplacian_combinatorial_lc_csr * sqrt_inv_degree_matrix_lc_csr\n"
   ]
  },
  {
   "cell_type": "code",
   "execution_count": 10,
   "metadata": {},
   "outputs": [],
   "source": [
    "def graph_embedding(laplacian_normalized_csr, d):\n",
    "    [eigenvalues, eigenvectors] = sparse.linalg.eigsh(laplacian_normalized_csr, k = d+1, which = 'SM')\n",
    "    sortID = np.argsort(eigenvalues)\n",
    "    eigenvalues = eigenvalues[sortID]\n",
    "    eigenvectors = eigenvectors[:,sortID]\n",
    "    proj  = eigenvectors[:,1:d+1]\n",
    "    return proj"
   ]
  },
  {
   "cell_type": "markdown",
   "metadata": {},
   "source": [
    "* *Plot the nodes embedded in 2D. Comment on what you see.*"
   ]
  },
  {
   "cell_type": "code",
   "execution_count": 11,
   "metadata": {},
   "outputs": [
    {
     "data": {
      "text/plain": [
       "[<matplotlib.lines.Line2D at 0x123ba8860>]"
      ]
     },
     "execution_count": 11,
     "metadata": {},
     "output_type": "execute_result"
    },
    {
     "data": {
      "image/png": "[encoded data removed]",
      "text/plain": [
       "<Figure size 576x396 with 1 Axes>"
      ]
     },
     "metadata": {},
     "output_type": "display_data"
    }
   ],
   "source": [
    "proj = graph_embedding(laplacian_normalized_lc_csr,  2)\n",
    "plt.plot(proj[:,0],proj[:,1], '.')"
   ]
  },
  {
   "cell_type": "markdown",
   "metadata": {},
   "source": [
    "**Answer**\n",
    "\n",
    "## TODO"
   ]
  },
  {
   "cell_type": "markdown",
   "metadata": {},
   "source": [
    "---\n",
    "### Question 9"
   ]
  },
  {
   "cell_type": "markdown",
   "metadata": {},
   "source": [
    "What does the embedding $Z \\in \\mathbb{R}^{N \\times d}$ preserve?"
   ]
  },
  {
   "cell_type": "markdown",
   "metadata": {},
   "source": [
    "**Answer**\n",
    "\n",
    "The embedding $Z \\in \\mathbb{R}^{N \\times d}$ preserves relevant graphs properties such as the number of data points N, while reducing the dimension d. \n",
    "The goal of the Laplacian eigenmap algorithm is to preserves local information optimally. All the point node that are close from each other (in the sens of their edge weight) must be close in the embedding."
   ]
  },
  {
   "cell_type": "markdown",
   "metadata": {},
   "source": [
    "---\n",
    "## 2 Spectral clustering\n",
    "\n",
    "*Spectral clustering is a method to partition a graph into distinct clusters.\n",
    "The method associates a feature vector $z_i \\in \\mathbb{R}^d$ to every node $v_i \\in \\mathcal{V}$, then runs [$k$-means](https://en.wikipedia.org/wiki/K-means_clustering) in the embedding space $\\mathbb{R}^d$ to assign each node $v_i \\in \\mathcal{V}$ to a cluster $c_j \\in \\mathcal{C}$, where $k = |\\mathcal{C}|$ is the number of desired clusters.* "
   ]
  },
  {
   "cell_type": "markdown",
   "metadata": {},
   "source": [
    "For this part, we add choosen to use the unweighted adjacency matrix, because we feel that our graph will probably be cluster according to geographical features. More over we keept only the nodes with a degree upper than 20, because we want to see only the airports (=nodes) that are significants (with less than 20 flights in an airport, it is not very significant). By doing this threshold, we also assure that our graph is connected."
   ]
  },
  {
   "cell_type": "code",
   "execution_count": 12,
   "metadata": {},
   "outputs": [],
   "source": [
    "#Computation of the eigenvalues and eigenvectors for our graph\n",
    "[eigenvalues_lc, eigenvectors_lc] = sparse.linalg.eigsh(laplacian_normalized_lc_csr, k = n_nodes_lc-1, which = 'LM')\n",
    "#This function will not return the first 0 because it is assuming it is always there. \n",
    "#So when we now look at eigenvalues we had not to forget that there is one more 0.\n",
    "sortID = np.argsort(eigenvalues_lc)\n",
    "eigenvalues_lc = eigenvalues_lc[sortID]\n",
    "eigenvectors_lc = eigenvectors_lc[:,sortID]"
   ]
  },
  {
   "cell_type": "code",
   "execution_count": 13,
   "metadata": {},
   "outputs": [
    {
     "name": "stdout",
     "output_type": "stream",
     "text": [
      "Number of connected components: 1\n"
     ]
    }
   ],
   "source": [
    "n_conn_comp = eigenvalues_lc[eigenvalues_lc ==  0].shape[0]+1\n",
    "eigenvalues_lc[eigenvalues_lc < 10**(-10)] = 0\n",
    "print(\"Number of connected components:\",n_conn_comp)"
   ]
  },
  {
   "cell_type": "code",
   "execution_count": 14,
   "metadata": {},
   "outputs": [
    {
     "data": {
      "text/plain": [
       "Text(0, 0.5, 'Values of eigenvalues')"
      ]
     },
     "execution_count": 14,
     "metadata": {},
     "output_type": "execute_result"
    },
    {
     "data": {
      "image/png": "[encoded data removed]",
      "text/plain": [
       "<Figure size 576x396 with 1 Axes>"
      ]
     },
     "metadata": {},
     "output_type": "display_data"
    }
   ],
   "source": [
    "# Graph Spectrum\n",
    "plt.plot(eigenvalues_lc, \"b.\" , markersize = 1)\n",
    "plt.title(\"Graph Spectrum\")\n",
    "plt.xlabel(\"Numbers of the eigenvalues\")\n",
    "plt.ylabel(\"Values of eigenvalues\")"
   ]
  },
  {
   "cell_type": "markdown",
   "metadata": {},
   "source": [
    "---\n",
    "### Question 10\n",
    "\n",
    "* *Choose $k$ and $d$. How did you get to those numbers?*"
   ]
  },
  {
   "cell_type": "markdown",
   "metadata": {},
   "source": [
    "**Answer**\n",
    "- k is chosen according to the graph of eigenvalues : the number of eighenvalues before the \"gap\" correspond to k. k is the number of clusters.\n",
    "- d is the dimension of the embedding space, it has to be chosen in order to preserves local infomation optimally in a certain sense. (after Belkin's book)."
   ]
  },
  {
   "cell_type": "code",
   "execution_count": 15,
   "metadata": {},
   "outputs": [
    {
     "name": "stdout",
     "output_type": "stream",
     "text": [
      "number of eigenvalues before 1rst gap : 3\n",
      "number of eigenvalues before 1rst gap : 6\n"
     ]
    },
    {
     "data": {
      "image/png": "[encoded data removed]",
      "text/plain": [
       "<Figure size 576x396 with 1 Axes>"
      ]
     },
     "metadata": {},
     "output_type": "display_data"
    }
   ],
   "source": [
    "#Plot eigenvalues repartitions\n",
    "x = np.ones_like(range(len(eigenvalues_lc)))\n",
    "plt.plot(eigenvalues_lc,x,\"b.\",markersize = 10)\n",
    "plt.xlim([0,0.5])\n",
    "plt.title(\"Repartition of eigenvalues (zoom on the part next to 0)\")\n",
    "plt.xlabel(\"Value of the eigenvalue\")\n",
    "\n",
    "##count how many values we have until the gap\n",
    "nb_before_1rst=len(eigenvalues_lc[np.where(eigenvalues_lc< 0.2)])+1 # +1 correspond to the first 0 not in the list of eigenvalues\n",
    "nb_before_2nd=len(eigenvalues_lc[np.where(eigenvalues_lc< 0.4)])+1  # +1 correspond to the first 0 not in the list of eigenvalues\n",
    "print(\"number of eigenvalues before 1rst gap :\",nb_before_1rst)\n",
    "print(\"number of eigenvalues before 1rst gap :\",nb_before_2nd)"
   ]
  },
  {
   "cell_type": "markdown",
   "metadata": {},
   "source": [
    "- As we see on the graph, we see two big gaps. The first correspond to k=3 and the second to k=6. We will test this two possibilities\n",
    "- We have decided to take d=k, because d is the number of eigenvectors to keep when applying the K-means. If d<k, the number of information may be to little to process a good clustering. However if d is large, the computationnal cost will be higher. Considering this facts, d=k seems a good compromise."
   ]
  },
  {
   "cell_type": "markdown",
   "metadata": {},
   "source": [
    "---\n",
    "### Question 11\n",
    "\n",
    "1. *Embed your graph in $\\mathbb{R}^d$ as $Z \\in \\mathbb{R}^{N \\times d}$.\n",
    "   Try with and without re-normalizing the eigenvectors by the degrees, then keep the one your prefer.*\n",
    "1. *If you want $k=2$ clusters, partition with the Fiedler vector. For $k > 2$ clusters, run $k$-means on $Z$. Don't implement $k$-means, use the `KMeans` class imported from scikit-learn.*"
   ]
  },
  {
   "cell_type": "code",
   "execution_count": 16,
   "metadata": {},
   "outputs": [
    {
     "name": "stdout",
     "output_type": "stream",
     "text": [
      "----- For k= 3  and d= 3  -----\n",
      "Number of elements in clusters :\n",
      "Cluster  1 : 289\n",
      "Cluster  2 : 112\n",
      "Cluster  3 : 60\n",
      "\n",
      "----- For k= 6  and d= 6  -----\n",
      "Number of elements in clusters :\n",
      "Cluster  1 : 107\n",
      "Cluster  2 : 11\n",
      "Cluster  3 : 167\n",
      "Cluster  4 : 93\n",
      "Cluster  5 : 58\n",
      "Cluster  6 : 25\n"
     ]
    }
   ],
   "source": [
    "# For k=3 and d=3\n",
    "k = 3; d = 3\n",
    "H = eigenvectors_lc[:,:d]; \n",
    "clusters3 = KMeans(n_clusters=k, random_state=0).fit_predict(H)\n",
    "\n",
    "print(\"----- For k=\",k,\" and d=\",d,\" -----\")\n",
    "print(\"Number of elements in clusters :\")\n",
    "for i in range(k):\n",
    "    cnt = 0\n",
    "    for j in clusters3:\n",
    "        if j == i:\n",
    "            cnt +=1\n",
    "    print(\"Cluster \",i+1,\":\",cnt)\n",
    "\n",
    "#For k=6 and d=6\n",
    "k = 6; d = 6\n",
    "H = eigenvectors_lc[:,:d]; \n",
    "clusters6 = KMeans(n_clusters=k, random_state=0).fit_predict(H)\n",
    "print()\n",
    "print(\"----- For k=\",k,\" and d=\",d,\" -----\")\n",
    "print(\"Number of elements in clusters :\")\n",
    "for i in range(k):\n",
    "    cnt = 0\n",
    "    for j in clusters6:\n",
    "        if j == i:\n",
    "            cnt +=1\n",
    "    print(\"Cluster \",i+1,\":\",cnt)\n"
   ]
  },
  {
   "cell_type": "code",
   "execution_count": 17,
   "metadata": {},
   "outputs": [
    {
     "name": "stdout",
     "output_type": "stream",
     "text": [
      "----- For k=2 (this is just an exemple, it has no real sense for our graph) -----\n",
      "Number of elements in clusters :\n",
      "Cluster labeled +1 : 148\n",
      "Cluster labeled -1 : 313\n"
     ]
    }
   ],
   "source": [
    "#For k=2, we have :\n",
    "fiedler_vect = np.sign(eigenvectors_lc[:,0])\n",
    "nb_neg=len(fiedler_vect[np.where(fiedler_vect==-1)])\n",
    "nb_pos=len(fiedler_vect[np.where(fiedler_vect==1)])\n",
    "print(\"----- For k=2 (this is just an exemple, it has no real sense for our graph) -----\")\n",
    "print(\"Number of elements in clusters :\")\n",
    "print(\"Cluster labeled +1 :\",nb_pos)\n",
    "print(\"Cluster labeled -1 :\",nb_neg)"
   ]
  },
  {
   "cell_type": "markdown",
   "metadata": {},
   "source": [
    "---\n",
    "### Question 12\n",
    "\n",
    "- *Use the computed cluster assignment to reorder the adjacency matrix $A$.\n",
    "What do you expect? What do you observe?*"
   ]
  },
  {
   "cell_type": "code",
   "execution_count": 18,
   "metadata": {},
   "outputs": [
    {
     "data": {
      "text/plain": [
       "Text(0.5, 1.05, 'Reordered ajacency matrix for k=6')"
      ]
     },
     "execution_count": 18,
     "metadata": {},
     "output_type": "execute_result"
    },
    {
     "data": {
      "image/png": "[encoded data removed]",
      "text/plain": [
       "<Figure size 576x396 with 1 Axes>"
      ]
     },
     "metadata": {},
     "output_type": "display_data"
    },
    {
     "data": {
      "image/png": "[encoded data removed]",
      "text/plain": [
       "<Figure size 576x396 with 1 Axes>"
      ]
     },
     "metadata": {},
     "output_type": "display_data"
    }
   ],
   "source": [
    "# For k=3\n",
    "new_order3 = np.array([],dtype = int)\n",
    "for i in range(3):\n",
    "    new_order3 = np.append(new_order3,np.where(clusters3 == i))\n",
    "plt.spy(adjacency_th[:,new_order3][new_order3], markersize=1)\n",
    "plt.title(\"Reordered ajacency matrix for k=3\")\n",
    "\n",
    "#For k=6\n",
    "plt.figure()\n",
    "new_order6 = np.array([],dtype = int)\n",
    "for i in range(6):\n",
    "    new_order6 = np.append(new_order6,np.where(clusters6 == i))\n",
    "plt.spy(adjacency_th[:,new_order6][new_order6], markersize=1)\n",
    "plt.title(\"Reordered ajacency matrix for k=6\")"
   ]
  },
  {
   "cell_type": "markdown",
   "metadata": {},
   "source": [
    "We were expecting a bock diagonal matrix or something close to it, because the nodes of one cluster are supposed to be mostly connected with the nodes of this same cluster. Of course the clusters are not fully independant (in this case, our graph would have several distinct componants).\n",
    "- For k=3, we observe 3 blocks in the diagonal. However, those blocks seems to have \"internal\" blocks : that means that it may exist some \"internal\" clusters in clusters. This is fully visible on the case k=6.\n",
    "- For k=6, the diagonal is composed of 6 blocks. Some blocks (like the 3rd - 167 nodes) are much bigger than overs (like the 2nd - 11 nodes). The blocks stills connected with the overs even if they are mostly link with itself."
   ]
  },
  {
   "cell_type": "markdown",
   "metadata": {},
   "source": [
    "---\n",
    "### Question 13\n",
    "\n",
    "*If you have ground truth clusters for your dataset, compare the cluster assignment from spectral clustering to the ground truth.\n",
    "A simple quantitative measure is to compute the percentage of nodes that have been correctly categorized.\n",
    "If you don't have a ground truth, qualitatively assess the quality of the clustering.*\n",
    "\n",
    "*Ground truth clusters are the \"real clusters\".\n",
    "For example, the genre of musical tracks in FMA, the category of Wikipedia articles, the spammer status of individuals, etc.\n",
    "Look for the `labels` in the [dataset descriptions](https://github.com/mdeff/ntds_2018/tree/master/projects/README.md).*"
   ]
  },
  {
   "cell_type": "markdown",
   "metadata": {},
   "source": [
    "Because there is no labels in our dataset, we have choosen to check our hypothesis of geographical clusters. In order to do that we import back our dataframe of airports and flights."
   ]
  },
  {
   "cell_type": "code",
   "execution_count": 19,
   "metadata": {},
   "outputs": [],
   "source": [
    "# import of routes\n",
    "routes = pd.read_csv('routes.dat', sep=',', encoding='utf-8', engine='python')\n",
    "routes.columns = ['Airline','Airline ID','Source Airport','Source Airport ID','Destination Airport','Destination Airport ID','Codeshare','Stops','Equipment']\n",
    "routes = routes.drop(columns=['Source Airport ID','Destination Airport ID'])\n",
    "\n",
    "# import of source and destination airport\n",
    "source_airports = routes[['Source Airport']]\n",
    "source_airports = source_airports.rename(columns={'Source Airport':'Airport'})\n",
    "\n",
    "dest_airports = routes[['Destination Airport']]\n",
    "dest_airports = dest_airports.rename(columns={'Destination Airport':'Airport'})\n",
    "\n",
    "# creation of a dataframe with all airport and airport_idx \n",
    "# (we use airport_idx insteed of airportID because some airports have no airportID)\n",
    "airports = pd.concat([source_airports,dest_airports])\n",
    "airports = airports.drop_duplicates()\n",
    "airports.reset_index(inplace=True)\n",
    "airports = airports.drop(columns=['index'])\n",
    "airports.reset_index(inplace=True)\n",
    "airports = airports.set_index('Airport')\n",
    "airports = airports.rename(columns={'index':'airport_idx'})"
   ]
  },
  {
   "cell_type": "code",
   "execution_count": 20,
   "metadata": {},
   "outputs": [
    {
     "name": "stdout",
     "output_type": "stream",
     "text": [
      "--------------------------------- For k=3 ---------------------------------\n",
      "\n",
      "Cluster 1  :\n",
      " ['DME' 'GYD' 'KZN' 'LED' 'OVB' 'SVX' 'IKT' 'YKS' 'ABJ' 'ACC' 'COO' 'DKR'\n",
      " 'BOD' 'BRS' 'GVA' 'LCA' 'LPA' 'TFS' 'ZRH' 'ARN' 'OSL' 'TRF' 'DWC' 'MNL'\n",
      " 'SSA' 'BCN' 'DLA' 'LGW' 'LOS' 'NBO' 'BKK' 'DRW' 'HKT' 'KUL' 'PEN' 'PER'\n",
      " 'REP' 'RGN' 'SGN' 'DUS' 'FMM' 'HAM' 'MUC' 'NAP' 'OLB' 'SZG' 'TXL' 'ZAD'\n",
      " 'AMS' 'BGY' 'BLQ' 'BRU' 'CGN' 'CMN' 'LYS' 'MPL' 'PMI' 'SAW' 'TLS' 'TSF'\n",
      " 'MEL' 'SYD' 'CAI' 'TLV' 'VKO' 'CCU' 'DAC' 'DXB' 'JED' 'KTM' 'MCT' 'HAV'\n",
      " 'DEL' 'ISB' 'AYT' 'BSL' 'HRG' 'SKP' 'AGP' 'ALG' 'ATH' 'BEG' 'BGO' 'BHX'\n",
      " 'BIA' 'BIO' 'BRE' 'BRI' 'BUD' 'CAG' 'CDG' 'CFU' 'CTA' 'CWL' 'DBV' 'DTM'\n",
      " 'DUB' 'EDI' 'FAO' 'FCO' 'FRA' 'HAJ' 'HEL' 'HER' 'IBZ' 'KGS' 'KRK' 'KTW'\n",
      " 'LEJ' 'LHR' 'LIN' 'LIS' 'MAD' 'MAN' 'MXP' 'NCE' 'NUE' 'PMO' 'PRG' 'PSA'\n",
      " 'RAK' 'RHO' 'SKG' 'SPU' 'STN' 'STR' 'SUF' 'TRN' 'TUN' 'VCE' 'VIE' 'VRN'\n",
      " 'WAW' 'WRO' 'ZAG' 'FAI' 'BET' 'BKI' 'CEB' 'CGK' 'DPS' 'NRT' 'SVO' 'TOS'\n",
      " 'AEP' 'CPT' 'JNB' 'BLR' 'BOM' 'COK' 'HYD' 'MAA' 'SXF' 'TBS' 'CPH' 'KJA'\n",
      " 'KRR' 'EVN' 'RIX' 'HND' 'ALA' 'DYU' 'FRU' 'IKA' 'IST' 'SHJ' 'KUF' 'ROV'\n",
      " 'ADB' 'BJV' 'DLM' 'AMM' 'HBE' 'TIP' 'BVA' 'KBP' 'KIV' 'OTP' 'AUH' 'BAH'\n",
      " 'CMB' 'DMM' 'DOH' 'KWI' 'RUH' 'CHQ' 'IEV' 'MRS' 'NTE' 'SOF' 'AJA' 'FLR'\n",
      " 'GOT' 'LIL' 'ORY' 'SXB' 'EBB' 'ABZ' 'ADL' 'AKL' 'BNE' 'CHC' 'CNS' 'CTS'\n",
      " 'GLA' 'ITM' 'LBA' 'LHE' 'LUX' 'NAN' 'NCL' 'PPT' 'RTM' 'SVG' 'ACE' 'ALC'\n",
      " 'DJE' 'FNC' 'FUE' 'GDN' 'JER' 'LCY' 'MAH' 'MLA' 'NBE' 'SVQ' 'VLC' 'ADD'\n",
      " 'FIH' 'LAD' 'TRD' 'VNO' 'CGH' 'VCP' 'ABV' 'BEY' 'BLL' 'DAR' 'LJU' 'MRU'\n",
      " 'SOU' 'TNR' 'ORN' 'MLE' 'MYY' 'SUB' 'UPG' 'AGA' 'KEF' 'MSQ' 'OPO' 'TLL'\n",
      " 'AHO' 'KHI' 'KRT' 'TAS' 'TSE' 'MHD' 'SYZ' 'THR' 'PFO' 'EMA' 'LPL' 'POM'\n",
      " 'KHV' 'GSE' 'RYG' 'ORK' 'SCQ' 'SNN' 'EBL' 'MED' 'SAH' 'WLG' 'TPS' 'ESB'\n",
      " 'HIR' 'VLI' 'CIA' 'CRL' 'EIN' 'GRO' 'HHN' 'LTN' 'NRN' 'NYO' 'PIK' 'WMI'\n",
      " 'BFS']\n",
      "Cluster 2  :\n",
      " ['LIM' 'BOG' 'UIO' 'BSB' 'GIG' 'GRU' 'ORD' 'STL' 'YQB' 'YUL' 'ATL' 'FLL'\n",
      " 'JAX' 'MCO' 'PBI' 'RSW' 'TPA' 'AUA' 'ANU' 'SDQ' 'SXM' 'YVR' 'LAS' 'LAX'\n",
      " 'DFW' 'EZE' 'JFK' 'MIA' 'PUJ' 'YEG' 'YOW' 'YYC' 'CUN' 'GDL' 'GUA' 'MEX'\n",
      " 'MTY' 'PVR' 'SAT' 'SJD' 'SJO' 'SNA' 'TIJ' 'SCL' 'CWB' 'POA' 'YWG' 'BZE'\n",
      " 'ANC' 'CCS' 'CLT' 'POS' 'CVG' 'DTW' 'GSP' 'LGA' 'MEM' 'MSP' 'MSY' 'BOS'\n",
      " 'SJU' 'PLS' 'PTY' 'EWR' 'YYZ' 'PHL' 'ABQ' 'AUS' 'BDL' 'BHM' 'BNA' 'BUF'\n",
      " 'BWI' 'CHS' 'CLE' 'CMH' 'CNF' 'DCA' 'DEN' 'GRR' 'HNL' 'HOU' 'IAD' 'IAH'\n",
      " 'IND' 'MBJ' 'MCI' 'MKE' 'MYR' 'NAS' 'OAK' 'OGG' 'OKC' 'OMA' 'PDX' 'PHX'\n",
      " 'PIT' 'RDU' 'SAL' 'SAN' 'SDF' 'SEA' 'SFO' 'SJC' 'SLC' 'SMF' 'YHZ' 'DAL'\n",
      " 'MDW' 'SFB' 'AZA' 'PIE']\n",
      "Cluster 3  :\n",
      " ['HAK' 'HGH' 'HKG' 'KIX' 'SIN' 'SWA' 'TPE' 'CAN' 'CGO' 'CGQ' 'CKG' 'CSX'\n",
      " 'CTU' 'DLC' 'FOC' 'HET' 'HFE' 'HRB' 'ICN' 'INC' 'KHN' 'KMG' 'KWE' 'KWL'\n",
      " 'LHW' 'LJG' 'NGB' 'NKG' 'NNG' 'PEK' 'PVG' 'SHE' 'SJW' 'SYX' 'SZX' 'TAO'\n",
      " 'TNA' 'TSN' 'TYN' 'URC' 'WNZ' 'WUH' 'XIY' 'XMN' 'ZUH' 'HAN' 'MFM' 'NGO'\n",
      " 'PUS' 'CJU' 'FUK' 'CNX' 'SHA' 'KHH' 'OKA' 'RMQ' 'DMK' 'YNT' 'DAD' 'NAY']\n"
     ]
    }
   ],
   "source": [
    "#For clustering with k=3\n",
    "print(\"--------------------------------- For k=3 ---------------------------------\\n\")\n",
    "\n",
    "for i in range(3):\n",
    "    print(\"Cluster\",i+1,\" :\\n\",airports.index[node_map[np.where(clusters3 == i)]].values)"
   ]
  },
  {
   "cell_type": "markdown",
   "metadata": {},
   "source": [
    "For k=3, we observe that our cluster are relative to the continents.\n",
    "- **Cluster 1:** European Airports (ex : Geneva, Lyon, Dublin, Rome, Vienne etc) + some Indonesia (Jawa Timur, Jakarta)\n",
    "- **Cluster 2:** American Continant Airport (ex : Peru, America, Canada etc)\n",
    "- **Cluster 3:** Asia (ex : China, Japan)\n",
    "\n",
    "We notice that some airport are bad clustered if we consider geographical clusters : for exemple ITM (Osaka Airport, Japan) is in Cluster 1 (\"Europe\"). More over the \"mixt\" of geographic areas in cluster 1 really show that some in-cluster exists. Chosing an higher k will probably show more geographical \"reality\"."
   ]
  },
  {
   "cell_type": "code",
   "execution_count": 21,
   "metadata": {},
   "outputs": [
    {
     "name": "stdout",
     "output_type": "stream",
     "text": [
      "--------------------------------- For k=6 ---------------------------------\n",
      "\n",
      "Cluster 1  :\n",
      " ['LIM' 'BOG' 'UIO' 'ORD' 'STL' 'YQB' 'YUL' 'ATL' 'FLL' 'JAX' 'MCO' 'PBI'\n",
      " 'RSW' 'TPA' 'AUA' 'ANU' 'SDQ' 'SXM' 'YVR' 'LAS' 'LAX' 'DFW' 'JFK' 'MIA'\n",
      " 'PUJ' 'YEG' 'YOW' 'YYC' 'CUN' 'GDL' 'GUA' 'HAV' 'MEX' 'MTY' 'PVR' 'SAT'\n",
      " 'SJD' 'SJO' 'SNA' 'TIJ' 'FAI' 'BET' 'SCL' 'YWG' 'BZE' 'ANC' 'CCS' 'CLT'\n",
      " 'POS' 'CVG' 'DTW' 'GSP' 'LGA' 'MEM' 'MSP' 'MSY' 'BOS' 'SJU' 'PLS' 'PTY'\n",
      " 'EWR' 'YYZ' 'PHL' 'ABQ' 'AUS' 'BDL' 'BHM' 'BNA' 'BUF' 'BWI' 'CHS' 'CLE'\n",
      " 'CMH' 'DCA' 'DEN' 'GRR' 'HOU' 'IAD' 'IAH' 'IND' 'MBJ' 'MCI' 'MKE' 'MYR'\n",
      " 'NAS' 'OAK' 'OGG' 'OKC' 'OMA' 'PDX' 'PHX' 'PIT' 'RDU' 'SAL' 'SAN' 'SDF'\n",
      " 'SEA' 'SFO' 'SJC' 'SLC' 'SMF' 'YHZ' 'DAL' 'MDW' 'SFB' 'AZA' 'PIE']\n",
      "Cluster 2  :\n",
      " ['BSB' 'GIG' 'GRU' 'SSA' 'EZE' 'AEP' 'CWB' 'POA' 'CNF' 'CGH' 'VCP']\n",
      "Cluster 3  :\n",
      " ['BOD' 'BRS' 'GVA' 'LCA' 'LPA' 'TFS' 'ZRH' 'ARN' 'OSL' 'TRF' 'BCN' 'LGW'\n",
      " 'DUS' 'FMM' 'HAM' 'MUC' 'NAP' 'OLB' 'SZG' 'TXL' 'ZAD' 'AMS' 'BGY' 'BLQ'\n",
      " 'BRU' 'CGN' 'LYS' 'MPL' 'PMI' 'SAW' 'TLS' 'TSF' 'TLV' 'AYT' 'BSL' 'HRG'\n",
      " 'SKP' 'AGP' 'ALG' 'ATH' 'BEG' 'BGO' 'BHX' 'BIA' 'BIO' 'BRE' 'BRI' 'BUD'\n",
      " 'CAG' 'CDG' 'CFU' 'CTA' 'CWL' 'DBV' 'DTM' 'DUB' 'EDI' 'FAO' 'FCO' 'FRA'\n",
      " 'HAJ' 'HEL' 'HER' 'IBZ' 'KGS' 'KRK' 'KTW' 'LEJ' 'LIN' 'LIS' 'MAD' 'MAN'\n",
      " 'MXP' 'NCE' 'NUE' 'PMO' 'PRG' 'PSA' 'RAK' 'RHO' 'SKG' 'SPU' 'STN' 'STR'\n",
      " 'SUF' 'TRN' 'TUN' 'VCE' 'VIE' 'VRN' 'WAW' 'WRO' 'ZAG' 'TOS' 'SXF' 'CPH'\n",
      " 'RIX' 'ADB' 'BJV' 'DLM' 'BVA' 'KIV' 'OTP' 'CHQ' 'IEV' 'MRS' 'NTE' 'SOF'\n",
      " 'AJA' 'FLR' 'GOT' 'LIL' 'ORY' 'SXB' 'ABZ' 'GLA' 'LBA' 'LUX' 'NCL' 'RTM'\n",
      " 'SVG' 'ACE' 'ALC' 'DJE' 'FNC' 'FUE' 'GDN' 'JER' 'LCY' 'MAH' 'MLA' 'NBE'\n",
      " 'SVQ' 'VLC' 'TRD' 'VNO' 'BLL' 'LJU' 'SOU' 'TNR' 'ORN' 'AGA' 'KEF' 'OPO'\n",
      " 'TLL' 'AHO' 'PFO' 'EMA' 'LPL' 'GSE' 'RYG' 'ORK' 'SCQ' 'SNN' 'TPS' 'ESB'\n",
      " 'CIA' 'CRL' 'EIN' 'GRO' 'HHN' 'LTN' 'NRN' 'NYO' 'PIK' 'WMI' 'BFS']\n",
      "Cluster 4  :\n",
      " ['MNL' 'BKK' 'DRW' 'HAK' 'HGH' 'HKG' 'HKT' 'KIX' 'PEN' 'PER' 'REP' 'RGN'\n",
      " 'SGN' 'SIN' 'SWA' 'TPE' 'CAN' 'CGO' 'CGQ' 'CKG' 'CSX' 'CTU' 'DLC' 'FOC'\n",
      " 'HET' 'HFE' 'HRB' 'ICN' 'INC' 'KHN' 'KMG' 'KWE' 'KWL' 'LHW' 'LJG' 'MEL'\n",
      " 'NGB' 'NKG' 'NNG' 'PEK' 'PVG' 'SHE' 'SJW' 'SYD' 'SYX' 'SZX' 'TAO' 'TNA'\n",
      " 'TSN' 'TYN' 'WNZ' 'WUH' 'XIY' 'XMN' 'ZUH' 'BKI' 'CEB' 'CGK' 'DPS' 'HAN'\n",
      " 'MFM' 'NGO' 'NRT' 'PUS' 'CJU' 'FUK' 'HND' 'CNX' 'SHA' 'KHH' 'ADL' 'AKL'\n",
      " 'BNE' 'CHC' 'CNS' 'CTS' 'HNL' 'ITM' 'NAN' 'PPT' 'OKA' 'RMQ' 'DMK' 'MYY'\n",
      " 'SUB' 'UPG' 'YNT' 'DAD' 'POM' 'WLG' 'HIR' 'VLI' 'NAY']\n",
      "Cluster 5  :\n",
      " ['ABJ' 'ACC' 'COO' 'DKR' 'DWC' 'DLA' 'LOS' 'NBO' 'KUL' 'CMN' 'CAI' 'CCU'\n",
      " 'DAC' 'DXB' 'JED' 'KTM' 'MCT' 'DEL' 'ISB' 'LHR' 'CPT' 'JNB' 'BLR' 'BOM'\n",
      " 'COK' 'HYD' 'MAA' 'IKA' 'IST' 'SHJ' 'AMM' 'HBE' 'TIP' 'AUH' 'BAH' 'CMB'\n",
      " 'DMM' 'DOH' 'KWI' 'RUH' 'EBB' 'LHE' 'ADD' 'FIH' 'LAD' 'ABV' 'BEY' 'DAR'\n",
      " 'MRU' 'MLE' 'KHI' 'KRT' 'MHD' 'SYZ' 'THR' 'EBL' 'MED' 'SAH']\n",
      "Cluster 6  :\n",
      " ['DME' 'GYD' 'KZN' 'LED' 'OVB' 'SVX' 'IKT' 'YKS' 'URC' 'VKO' 'SVO' 'TBS'\n",
      " 'KJA' 'KRR' 'EVN' 'ALA' 'DYU' 'FRU' 'KUF' 'ROV' 'KBP' 'MSQ' 'TAS' 'TSE'\n",
      " 'KHV']\n"
     ]
    }
   ],
   "source": [
    "#For clustering with k=6\n",
    "print(\"--------------------------------- For k=6 ---------------------------------\\n\")\n",
    "\n",
    "for i in range(6):\n",
    "    print(\"Cluster\",i+1,\" :\\n\",airports.index[node_map[np.where(clusters6 == i)]].values)"
   ]
  },
  {
   "cell_type": "markdown",
   "metadata": {},
   "source": [
    "For k=6, we observe that our clusters are more relative to smaller areas (countries or region of countries).\n",
    "- **Cluster 1:** North and Center America (Peru, Colombia, and a lot of cities of USA)\n",
    "- **Cluster 2:** South Ameria (Bresil,Argentine)\n",
    "- **Cluster 3:** Europe (France, Switzerland, Italy, UK, etc)\n",
    "- **Cluster 4:** Asia and indonesia (Phillipines, Thailande, Chine, Japon etc)\n",
    "- **Cluster 5:** Africa (Cote d'Ivoire, Egypt, Arabie Saoudite, Iran etc)\n",
    "- **Cluster 6:** Russia (+ some countries linked to Russia like Kazakhstan)\n",
    "\n",
    "This clustering is really qualitative and show somes relations between countries. The case of Russia is quite revealing : it is cluster separatly and include only few countries that have a real history."
   ]
  },
  {
   "cell_type": "markdown",
   "metadata": {},
   "source": [
    "---\n",
    "### Question 14\n",
    "\n",
    "Plot the cluster assignment (one color per cluster) on the 2D embedding you computed above with Laplacian eigenmaps."
   ]
  },
  {
   "cell_type": "code",
   "execution_count": 22,
   "metadata": {},
   "outputs": [
    {
     "data": {
      "image/png": "[encoded data removed]",
      "text/plain": [
       "<Figure size 576x396 with 1 Axes>"
      ]
     },
     "metadata": {},
     "output_type": "display_data"
    }
   ],
   "source": [
    "proj = graph_embedding(laplacian_normalized_lc_csr,  2)\n",
    "colors = ['DarkBlue', 'DarkRed', 'DarkGreen']\n",
    "\n",
    "for i in range(3):\n",
    "    cluster = proj[np.where(clusters3 == i)[0], :].real\n",
    "    plt.plot(cluster[:,0],cluster[:,1], '.', color=colors[i])"
   ]
  },
  {
   "cell_type": "markdown",
   "metadata": {},
   "source": [
    "**Answer**\n",
    "\n",
    "## TODO"
   ]
  },
  {
   "cell_type": "markdown",
   "metadata": {},
   "source": [
    "---\n",
    "### Question 15\n",
    "\n",
    "Why did we use the eigenvectors of the graph Laplacian as features? Could we use other features for clustering?"
   ]
  },
  {
   "cell_type": "markdown",
   "metadata": {},
   "source": [
    "**Answer**\n",
    "\n",
    "The eigenvectors give the embedding of the node on a lower dimentionnal space keeping the similar nodes (in the sense of their egde weigth) close together. Similar nodes are close from each other considering the euclidean distance used for the $k$-mean clustering. Therefore, the eigenvectors are good choice for clustering nodes. \n",
    "\n",
    "We could have used other features depending on variable of interest for visualisation purpose."
   ]
  },
  {
   "cell_type": "code",
   "execution_count": null,
   "metadata": {},
   "outputs": [],
   "source": []
  }
 ],
 "metadata": {
  "kernelspec": {
   "display_name": "Python 3",
   "language": "python",
   "name": "python3"
  },
  "language_info": {
   "codemirror_mode": {
    "name": "ipython",
    "version": 3
   },
   "file_extension": ".py",
   "mimetype": "text/x-python",
   "name": "python",
   "nbconvert_exporter": "python",
   "pygments_lexer": "ipython3",
   "version": "3.7.0"
  }
 },
 "nbformat": 4,
 "nbformat_minor": 2
}
