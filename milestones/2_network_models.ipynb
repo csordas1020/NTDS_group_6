{
 "cells": [
  {
   "cell_type": "markdown",
   "metadata": {},
   "source": [
    "# [NTDS'18] milestone 2: network models\n",
    "[ntds'18]: https://github.com/mdeff/ntds_2018\n",
    "\n",
    "[Hermina Petric Maretic](https://people.epfl.ch/hermina.petricmaretic), [EPFL LTS4](https://lts4.epfl.ch)"
   ]
  },
  {
   "cell_type": "markdown",
   "metadata": {},
   "source": [
    "## Students\n",
    "\n",
    "* Team: 6\n",
    "* Students: Gabor Csordas, Maëlle Le Clainche, Nicolas Fontbonne, Marie Sadler\n",
    "* Dataset: Flights routes"
   ]
  },
  {
   "cell_type": "markdown",
   "metadata": {},
   "source": [
    "## Rules\n",
    "\n",
    "* Milestones have to be completed by teams. No collaboration between teams is allowed.\n",
    "* Textual answers shall be short. Typically one to two sentences.\n",
    "* Code has to be clean.\n",
    "* In the first part, you cannot import any other library than we imported. In the second part, you are allowed to import any library you want.\n",
    "* When submitting, the notebook is executed and the results are stored. I.e., if you open the notebook again it should show numerical results and plots. We won't be able to execute your notebooks.\n",
    "* The notebook is re-executed from a blank state before submission. That is to be sure it is reproducible. You can click \"Kernel\" then \"Restart & Run All\" in Jupyter."
   ]
  },
  {
   "cell_type": "markdown",
   "metadata": {},
   "source": [
    "## Objective\n",
    "\n",
    "The purpose of this milestone is to explore various random network models, analyse their properties and compare them to your network. In the first part of the milestone you will implement two random graph models and try to fit them to your network. In this part you are not allowed to use any additional package. In the second part of the milestone you will choose a third random graph model that you think shares some properties with your network. You will be allowed to use additional packages to construct this network, but you must explain your network choice. Finally, make your code as clean as possible, and keep your textual answers short."
   ]
  },
  {
   "cell_type": "markdown",
   "metadata": {},
   "source": [
    "## Part 0\n",
    "\n",
    "Import the adjacency matrix of your graph that you constructed in milestone 1, as well as the number of nodes and edges of your network."
   ]
  },
  {
   "cell_type": "code",
   "execution_count": 1,
   "metadata": {},
   "outputs": [],
   "source": [
    "import numpy as np\n",
    "\n",
    "adjacency =  np.load('adjacency_unweighted.npy'); # the adjacency matrix\n",
    "n_nodes =  len(adjacency); # the number of nodes in the network\n",
    "n_edges =  1/2 * np.count_nonzero(adjacency); # the number of edges in the network"
   ]
  },
  {
   "cell_type": "markdown",
   "metadata": {},
   "source": [
    "## Part 1\n",
    "\n",
    "**For the computation of this part of the milestone you are only allowed to use the packages that have been imported in the cell below.**"
   ]
  },
  {
   "cell_type": "code",
   "execution_count": 2,
   "metadata": {},
   "outputs": [],
   "source": [
    "%matplotlib inline\n",
    "\n",
    "import random\n",
    "\n",
    "import numpy as np\n",
    "import pandas as pd\n",
    "import matplotlib.pyplot as plt\n",
    "import scipy\n",
    "import math"
   ]
  },
  {
   "cell_type": "markdown",
   "metadata": {},
   "source": [
    "### Question 1\n",
    "\n",
    "Create a function that constructs an Erdős–Rényi graph."
   ]
  },
  {
   "cell_type": "code",
   "execution_count": 3,
   "metadata": {},
   "outputs": [],
   "source": [
    "def erdos_renyi(n, p, seed=None):\n",
    "    \"\"\"Create an instance from the Erdos-Renyi graph model.\n",
    "    \n",
    "    Parameters\n",
    "    ----------\n",
    "    n: int\n",
    "        Size of the graph.\n",
    "    p: float\n",
    "        Edge probability. A number between 0 and 1.\n",
    "    seed: int (optional)\n",
    "        Seed for the random number generator. To get reproducible results.\n",
    "    \n",
    "    Returns\n",
    "    -------\n",
    "    adjacency\n",
    "        The adjacency matrix of a graph.\n",
    "    \"\"\"\n",
    "    \n",
    "    adjacency = np.zeros((n,n));\n",
    "    np.random.seed(seed);\n",
    "    for i in range(n):\n",
    "        for j in range(i+1,n):\n",
    "            if p > np.random.uniform(0,1):\n",
    "                adjacency[i,j] = 1;\n",
    "                adjacency[j,i] = 1;\n",
    "    \n",
    "    return adjacency"
   ]
  },
  {
   "cell_type": "code",
   "execution_count": 4,
   "metadata": {},
   "outputs": [
    {
     "name": "stdout",
     "output_type": "stream",
     "text": [
      "2.4 2.4\n"
     ]
    },
    {
     "data": {
      "image/png": "[encoded data removed]",
      "text/plain": [
       "<Figure size 432x288 with 1 Axes>"
      ]
     },
     "metadata": {
      "needs_background": "light"
     },
     "output_type": "display_data"
    }
   ],
   "source": [
    "er = erdos_renyi(5, 0.5, 9765)\n",
    "plt.spy(er)\n",
    "plt.title('Erdos-Renyi (5, 0.6)')\n",
    "print(np.sum(er)/5,0.6*4)"
   ]
  },
  {
   "cell_type": "code",
   "execution_count": 5,
   "metadata": {},
   "outputs": [
    {
     "name": "stdout",
     "output_type": "stream",
     "text": [
      "5997.9392 5999.4\n"
     ]
    }
   ],
   "source": [
    "#er = erdos_renyi(10, 0.4, 7648)\n",
    "size = 10000\n",
    "p = 0.6\n",
    "er = erdos_renyi(size, p, 10)\n",
    "#plt.spy(er)\n",
    "#plt.title('Erdos-Renyi (10, 0.4)')\n",
    "print(np.sum(er)/size,p*(size-1))"
   ]
  },
  {
   "cell_type": "code",
   "execution_count": 6,
   "metadata": {},
   "outputs": [
    {
     "name": "stdout",
     "output_type": "stream",
     "text": [
      "2.4 2.4\n"
     ]
    },
    {
     "data": {
      "image/png": "[encoded data removed]",
      "text/plain": [
       "<Figure size 432x288 with 1 Axes>"
      ]
     },
     "metadata": {
      "needs_background": "light"
     },
     "output_type": "display_data"
    }
   ],
   "source": [
    "er = erdos_renyi(5, 0.5, 9765)\n",
    "plt.spy(er)\n",
    "plt.title('Erdos-Renyi (5, 0.6)')\n",
    "print(np.sum(er)/5,0.6*4)"
   ]
  },
  {
   "cell_type": "code",
   "execution_count": 7,
   "metadata": {},
   "outputs": [
    {
     "name": "stdout",
     "output_type": "stream",
     "text": [
      "5997.9392 5999.4\n"
     ]
    }
   ],
   "source": [
    "#er = erdos_renyi(10, 0.4, 7648)\n",
    "size = 10000\n",
    "p = 0.6\n",
    "er = erdos_renyi(size, p, 10)\n",
    "#plt.spy(er)\n",
    "#plt.title('Erdos-Renyi (10, 0.4)')\n",
    "print(np.sum(er)/size,p*(size-1))"
   ]
  },
  {
   "cell_type": "markdown",
   "metadata": {},
   "source": [
    "### Question 2\n",
    "\n",
    "Use the function to create a random Erdos-Renyi graph. Choose the parameters such that number of nodes is the same as in your graph, and the number of edges similar. You don't need to set the random seed. Comment on your choice of parameters."
   ]
  },
  {
   "cell_type": "code",
   "execution_count": 8,
   "metadata": {},
   "outputs": [],
   "source": [
    "degree = np.sum(adjacency, axis=0) \n",
    "average_degree=np.average(degree)\n",
    "p=average_degree/(n_nodes-1)\n",
    "adjacency_erdos=erdos_renyi(n_nodes, p, seed=None)"
   ]
  },
  {
   "cell_type": "code",
   "execution_count": 9,
   "metadata": {},
   "outputs": [
    {
     "name": "stdout",
     "output_type": "stream",
     "text": [
      "Are the number of nodes of our orginal graph and our Erdos-Renyi graph the same : True\n",
      "Number of edges of our origianal graph : 19256.5\n",
      "Number of edges of our Erdos-Renyi graph : 19200.0\n"
     ]
    }
   ],
   "source": [
    "print('Are the number of nodes of our orginal graph and our Erdos-Renyi graph the same :',n_nodes ==  len(adjacency_erdos));\n",
    "print('Number of edges of our origianal graph :',n_edges)\n",
    "print('Number of edges of our Erdos-Renyi graph :',1/2 * np.sum(adjacency_erdos)); "
   ]
  },
  {
   "cell_type": "markdown",
   "metadata": {},
   "source": [
    "**Answer**\n",
    "\n",
    "The expected number of links $<L>$ is equal to: $<L> = p \\cdot L_{max}$, the average degree $<k>$ is equal to: $<k> = \\frac{2 \\dot <L>}{N}$ and the average degree equals $p \\cdot L_{max}$ for one node. \n",
    "\n",
    "It results that the probability p is equal to: $p = \\frac{<k>}{N-1}$\n",
    "\n",
    "Given this choice of p and the number of nodes of our original graph, we obtain a number of edges that is similar to the number of edges in our real network. \n"
   ]
  },
  {
   "cell_type": "markdown",
   "metadata": {},
   "source": [
    "### Question 3\n",
    "\n",
    "Create a function that constructs a Barabási-Albert graph."
   ]
  },
  {
   "cell_type": "code",
   "execution_count": 10,
   "metadata": {},
   "outputs": [],
   "source": [
    "def barabasi_albert(n, m, seed=None):\n",
    "\n",
    "    \"\"\"Create an instance from the Barabasi-Albert graph model.\n",
    "    Parameters\n",
    "    ----------\n",
    "    n: int\n",
    "        Size of the graph.\n",
    "    m: int\n",
    "        Number of edges to attach from a new node to existing nodes.\n",
    "    seed: int (optional)\n",
    "        Seed for the random number generator. To get reproducible results.\n",
    "  Returns\n",
    "  -------\n",
    "    adjacency\n",
    "        The adjacency matrix of a graph.\n",
    "    \"\"\"\n",
    "\n",
    "    random.seed(seed)\n",
    "    m = math.floor(m)\n",
    "\n",
    "    if m < 2:\n",
    "        m0 = 2\n",
    "    else:\n",
    "        m0 = m\n",
    "        \n",
    "    # Start with a fully connected network if size m\n",
    "    adjacency = np.zeros([n,n])\n",
    "    adjacency[0:m0,0:m0] = 1\n",
    "    for k in range(m0):\n",
    "        adjacency[k][k] = 0\n",
    "        \n",
    "    for node in range(m0,n):\n",
    "        # While degree is not m\n",
    "        \n",
    "        distribution = np.sum(adjacency[0:node,0:node],axis=0)/np.sum(adjacency[0:node,0:node])\n",
    "    \n",
    "        connection = np.random.choice(np.arange(0,node), size=m,  p=distribution)\n",
    "\n",
    "        adjacency[list(connection),node] = 1\n",
    "        adjacency[node,list(connection)] = 1\n",
    "    return adjacency"
   ]
  },
  {
   "cell_type": "code",
   "execution_count": 11,
   "metadata": {},
   "outputs": [
    {
     "data": {
      "text/plain": [
       "Text(0.5, 1.05, 'Barabasi-Albert (5, 1)')"
      ]
     },
     "execution_count": 11,
     "metadata": {},
     "output_type": "execute_result"
    },
    {
     "data": {
      "image/png": "[encoded data removed]",
      "text/plain": [
       "<Figure size 432x288 with 1 Axes>"
      ]
     },
     "metadata": {
      "needs_background": "light"
     },
     "output_type": "display_data"
    }
   ],
   "source": [
    "ba = barabasi_albert(5, 1, 9087)\n",
    "plt.spy(ba)\n",
    "plt.title('Barabasi-Albert (5, 1)')"
   ]
  },
  {
   "cell_type": "code",
   "execution_count": 12,
   "metadata": {},
   "outputs": [
    {
     "data": {
      "text/plain": [
       "Text(0.5, 1.05, 'Barabasi-Albert (10, 2)')"
      ]
     },
     "execution_count": 12,
     "metadata": {},
     "output_type": "execute_result"
    },
    {
     "data": {
      "image/png": "[encoded data removed]",
      "text/plain": [
       "<Figure size 432x288 with 1 Axes>"
      ]
     },
     "metadata": {
      "needs_background": "light"
     },
     "output_type": "display_data"
    }
   ],
   "source": [
    "ba = barabasi_albert(10, 2, 8708)\n",
    "plt.spy(ba)\n",
    "plt.title('Barabasi-Albert (10, 2)')"
   ]
  },
  {
   "cell_type": "markdown",
   "metadata": {},
   "source": [
    "### Question 4\n",
    "\n",
    "Use the function to create a random Barabási-Albert graph. Choose the parameters such that number of nodes is the same as in your graph, and the number of edges similar. You don't need to set the random seed. Comment on your choice of parameters."
   ]
  },
  {
   "cell_type": "code",
   "execution_count": 13,
   "metadata": {},
   "outputs": [],
   "source": [
    "m=average_degree/2\n",
    "\n",
    "adjacency_barabasi=barabasi_albert(n_nodes, m, seed=None)"
   ]
  },
  {
   "cell_type": "code",
   "execution_count": 14,
   "metadata": {},
   "outputs": [
    {
     "name": "stdout",
     "output_type": "stream",
     "text": [
      "Are the number of nodes of our orginal graph and our Barabasi-Albert graph the same : True\n",
      "Number of edges of our origianal graph : 19256.5\n",
      "Number of edges of our Barabasi-Albert graph : 17007.0\n"
     ]
    }
   ],
   "source": [
    "print('Are the number of nodes of our orginal graph and our Barabasi-Albert graph the same :',n_nodes ==  len(adjacency_barabasi));\n",
    "print('Number of edges of our origianal graph :',n_edges)\n",
    "print('Number of edges of our Barabasi-Albert graph :',1/2 * np.sum(adjacency_barabasi)); "
   ]
  },
  {
   "cell_type": "markdown",
   "metadata": {},
   "source": [
    "**Answer**\n",
    "\n",
    "The maximum number of edge m is the average degree divided by 2.\n",
    "\n",
    "With this parameter and the number of nodes in our original graph, we get a random graph with the number of edges in the same order of magnitude. "
   ]
  },
  {
   "cell_type": "markdown",
   "metadata": {},
   "source": [
    "### Question 5\n",
    "\n",
    "Compare the number of edges in all three networks (your real network, the Erdős–Rényi network, and the Barabási-Albert netowk)."
   ]
  },
  {
   "cell_type": "code",
   "execution_count": 15,
   "metadata": {},
   "outputs": [
    {
     "name": "stdout",
     "output_type": "stream",
     "text": [
      "Number of edges in our orginal graph : 19256.5\n",
      "Number of edges in our Erdos-Renyi graph : 19200.0\n",
      "Number of edges in our Barabási-Albert graph : 17007.0\n"
     ]
    }
   ],
   "source": [
    "print('Number of edges in our orginal graph :',n_edges)\n",
    "print('Number of edges in our Erdos-Renyi graph :',1/2 * np.sum(adjacency_erdos))\n",
    "print('Number of edges in our Barabási-Albert graph :',1/2 * np.sum(adjacency_barabasi))"
   ]
  },
  {
   "cell_type": "markdown",
   "metadata": {},
   "source": [
    "**The Erdos-Renyi graph has a number of edges closer to the original graph, whereas the Barabasi-Albert graph has slightly fewer edges.**"
   ]
  },
  {
   "cell_type": "markdown",
   "metadata": {},
   "source": [
    "### Question 6\n",
    "\n",
    "Implement a function that computes the [Kullback–Leibler (KL) divergence](https://en.wikipedia.org/wiki/Kullback%E2%80%93Leibler_divergence) between two probability distributions.\n",
    "We'll use it to compare the degree distributions of networks."
   ]
  },
  {
   "cell_type": "code",
   "execution_count": 16,
   "metadata": {},
   "outputs": [],
   "source": [
    "def kl_divergence(p, q):\n",
    "    \"\"\"Compute the KL divergence between probability distributions of degrees of two networks.\n",
    "    \n",
    "    Parameters\n",
    "    ----------\n",
    "    p: np.array\n",
    "        Probability distribution of degrees of the 1st graph.\n",
    "    q: np.array\n",
    "        Probability distribution of degrees of the 2nd graph.\n",
    "    \n",
    "    Returns\n",
    "    -------\n",
    "    kl\n",
    "        The KL divergence between the two distributions.\n",
    "    \"\"\"\n",
    "    #initialization of kl\n",
    "    kl=0;\n",
    "    \n",
    "    #computation of the sum \n",
    "    for i in range (0,len(p)): #p and q have the same length\n",
    "        if p[i]!=0 and q[i]!=0:\n",
    "                kl+=p[i]*np.log(p[i]/q[i]);\n",
    "        \n",
    "    #return the result\n",
    "    return kl"
   ]
  },
  {
   "cell_type": "code",
   "execution_count": 17,
   "metadata": {},
   "outputs": [],
   "source": [
    "def kl_divergence_smooth(p, q):\n",
    "    \"\"\"Compute the KL divergence in a \"smoother\" vesion,\n",
    "    between probability distributions of degrees of two networks.\n",
    "    \n",
    "    Parameters\n",
    "    ----------\n",
    "    p: np.array\n",
    "        Probability distribution of degrees of the 1st graph.\n",
    "    q: np.array\n",
    "        Probability distribution of degrees of the 2nd graph.\n",
    "    \n",
    "    Returns\n",
    "    -------\n",
    "    kl\n",
    "        The KL divergence between the two distributions.\n",
    "    \"\"\"\n",
    "    #initialization of kl\n",
    "    kl=0;\n",
    "    \n",
    "    for i in range (1,len(p)-1): #p and q have the same length\n",
    "        p_mean=(p[i]+p[i-1]+p[i+1])/3 #mean \n",
    "        q_mean=(q[i]+q[i-1]+q[i+1])/3 #mean\n",
    "        if p_mean!=0 and q_mean!=0:\n",
    "            kl+=p_mean*np.log(p_mean/q_mean);\n",
    "        \n",
    "    #return the result\n",
    "    return kl"
   ]
  },
  {
   "cell_type": "code",
   "execution_count": 18,
   "metadata": {},
   "outputs": [
    {
     "name": "stdout",
     "output_type": "stream",
     "text": [
      "Our KL divergence result : 0.09151622184943575\n",
      "Is our KL divergence the same as Scipy entropy ? True\n",
      "\n",
      "Our KL divergence \"smooth\" result : 0.004778235401087804\n",
      "-> The result is different because we use bins to avoid the \"zeros\" issues\n"
     ]
    }
   ],
   "source": [
    "p_test = np.array([0.2, 0.2, 0.2, 0.4])\n",
    "q_test = np.array([0.3, 0.3, 0.1, 0.3])\n",
    "print('Our KL divergence result :',kl_divergence(p_test, q_test))\n",
    "\n",
    "from scipy.stats import entropy #just for checking\n",
    "print('Is our KL divergence the same as Scipy entropy ?', entropy(p_test,q_test)==kl_divergence(p_test, q_test))\n",
    "\n",
    "print()\n",
    "print('Our KL divergence \"smooth\" result :',kl_divergence_smooth(p_test, q_test))\n",
    "print('-> The result is different because we use bins to avoid the \"zeros\" issues')"
   ]
  },
  {
   "cell_type": "markdown",
   "metadata": {},
   "source": [
    "### Question 7\n",
    "\n",
    "Compare the degree distribution of your network to each of the two synthetic ones, in terms of KL divergence. **Hint:** Make sure you normalise your degree distributions to make them valid probability distributions."
   ]
  },
  {
   "cell_type": "code",
   "execution_count": 19,
   "metadata": {},
   "outputs": [],
   "source": [
    "def compute_degree_distribution(degree,size):\n",
    "    #reurn the degree distribution of size 'size' from the list of each node degree 'degree'\n",
    "    maxi=max(degree)\n",
    "    if maxi>size+1:\n",
    "        return('The maximal degree is superior to the size of degree distribution desired')\n",
    "    else:\n",
    "        degree_distribution=np.zeros(size+1)\n",
    "        for node_degree in degree: #for each node we look the degree\n",
    "            degree_distribution[node_degree]+=1\n",
    "        degree_distribution=degree_distribution/np.sum(degree_distribution)\n",
    "        return(degree_distribution)"
   ]
  },
  {
   "cell_type": "code",
   "execution_count": 20,
   "metadata": {},
   "outputs": [
    {
     "name": "stdout",
     "output_type": "stream",
     "text": [
      "Real network - Sum of probability =  0.9999999999999998\n",
      "Erdos-Renyi network - Sum of probability =  1.0\n",
      "Barabasi-Albert network - Sum of probability =  1.0\n"
     ]
    }
   ],
   "source": [
    "degree_real=np.sum(adjacency, axis=0)\n",
    "degree_Erdos=np.sum(adjacency_erdos, axis=0, dtype=np.int32)\n",
    "degree_Barabasi=np.sum(adjacency_barabasi, axis=0, dtype=np.int32)\n",
    "\n",
    "maximum=max(max(degree_real),max(degree_Erdos),max(degree_Barabasi))\n",
    "\n",
    "degree_distribution_real=compute_degree_distribution(degree_real,maximum)\n",
    "degree_distribution_Erdos=compute_degree_distribution(degree_Erdos,maximum)\n",
    "degree_distribution_Barabasi=compute_degree_distribution(degree_Barabasi,maximum)\n",
    "\n",
    "#Check probability distribution\n",
    "print('Real network - Sum of probability = ',np.sum(degree_distribution_real))\n",
    "print('Erdos-Renyi network - Sum of probability = ',np.sum(degree_distribution_Erdos))\n",
    "print('Barabasi-Albert network - Sum of probability = ',np.sum(degree_distribution_Barabasi))"
   ]
  },
  {
   "cell_type": "code",
   "execution_count": 21,
   "metadata": {},
   "outputs": [
    {
     "name": "stdout",
     "output_type": "stream",
     "text": [
      "KL divergence between real and Barabasi-Albert network :  -0.014083316694947716\n",
      "KL divergence between real and Erdos-Renyi network :  1.6411329100441905\n"
     ]
    }
   ],
   "source": [
    "#Comparaison of KL divergences\n",
    "print('KL divergence between real and Barabasi-Albert network : ',\n",
    "     kl_divergence(degree_distribution_real, degree_distribution_Barabasi))\n",
    "print('KL divergence between real and Erdos-Renyi network : ',\n",
    "      kl_divergence(degree_distribution_real, degree_distribution_Erdos))"
   ]
  },
  {
   "cell_type": "markdown",
   "metadata": {},
   "source": [
    "**The \"classical\" KL divergence is not adapted to our degree distribution, because there exists some p(i)!=0 when q(i)=0.\n",
    "In the\"classical\" definition of KL divergence, there should not be any p(i)!=0 when q(i)=0 (absolute continuity).**\n",
    "\n",
    "**This explains why we have some values that do not make sense (KL divergence<0) : we will use the KL distribution \"smoother\" for our networks.**"
   ]
  },
  {
   "cell_type": "code",
   "execution_count": 22,
   "metadata": {},
   "outputs": [
    {
     "name": "stdout",
     "output_type": "stream",
     "text": [
      "Number of 0 in degree distribution of our original graph : 105\n",
      "Number of 0 in degree distribution of Erdos graph : 225\n",
      "Number of 0 in degree distribution of Barabasi graph : 177\n",
      "-> We need to adapt our KL divergence because we have a lot of zeros in the distibutions.\n"
     ]
    }
   ],
   "source": [
    "n=len(degree_distribution_real)\n",
    "c=0\n",
    "for i in range(0,n):\n",
    "    if degree_distribution_real[i]==0:\n",
    "        c=c+1\n",
    "print('Number of 0 in degree distribution of our original graph :',c)\n",
    "\n",
    "\n",
    "n=len(degree_distribution_Erdos)\n",
    "c=0\n",
    "for i in range(0,n):\n",
    "    if degree_distribution_Erdos[i]==0:\n",
    "        c=c+1\n",
    "print('Number of 0 in degree distribution of Erdos graph :',c)\n",
    "\n",
    "n=len(degree_distribution_Barabasi)\n",
    "c=0\n",
    "for i in range(0,n):\n",
    "    if degree_distribution_Barabasi[i]==0:\n",
    "        c=c+1\n",
    "print('Number of 0 in degree distribution of Barabasi graph :',c)\n",
    "\n",
    "print('-> We need to adapt our KL divergence because we have a lot of zeros in the distibutions.')"
   ]
  },
  {
   "cell_type": "code",
   "execution_count": 23,
   "metadata": {},
   "outputs": [
    {
     "name": "stdout",
     "output_type": "stream",
     "text": [
      "KL divergence \"smooth\" between real and Barabasi-Albert network :  0.4652578547424604\n",
      "KL divergence \"smooth\" between real and Erdos-Renyi network :  2.377734370188697\n"
     ]
    }
   ],
   "source": [
    "#Comparaison of KL divergences \"smooth\"\n",
    "print('KL divergence \"smooth\" between real and Barabasi-Albert network : ',\n",
    "     kl_divergence_smooth(degree_distribution_real, degree_distribution_Barabasi))\n",
    "print('KL divergence \"smooth\" between real and Erdos-Renyi network : ',\n",
    "      kl_divergence_smooth(degree_distribution_real, degree_distribution_Erdos))"
   ]
  },
  {
   "cell_type": "markdown",
   "metadata": {},
   "source": [
    "**The KL divergence between our original network and the Barabasi-Albert is  much more closer to 0 than the KL divegrence between our orginal network and the Erdos-Renyi.**\n",
    "\n",
    "**Knowing that two identical network will have a KL divergence of 0, we can conclude that the Barabasi-Albert network is much more closer to our original network than the Erdos-Renyi is.**"
   ]
  },
  {
   "cell_type": "markdown",
   "metadata": {},
   "source": [
    "### Question 8\n",
    "\n",
    "Plot the degree distribution historgrams for all three networks. Are they consistent with the KL divergence results? Explain."
   ]
  },
  {
   "cell_type": "code",
   "execution_count": 24,
   "metadata": {},
   "outputs": [
    {
     "data": {
      "text/plain": [
       "<matplotlib.legend.Legend at 0x15a103b70>"
      ]
     },
     "execution_count": 24,
     "metadata": {},
     "output_type": "execute_result"
    },
    {
     "data": {
      "image/png": "[encoded data removed]",
      "text/plain": [
       "<Figure size 432x288 with 1 Axes>"
      ]
     },
     "metadata": {
      "needs_background": "light"
     },
     "output_type": "display_data"
    }
   ],
   "source": [
    "plt.hist(degree_distribution_Barabasi, bins = 70, fc=(1, 0, 0, 0.5), label='Barabasi Graph');\n",
    "plt.hist(degree_distribution_real, bins = 70, fc=(0, 0, 1, 0.5), label='Orginial Graph');\n",
    "plt.hist(degree_distribution_Erdos, bins = 70, fc=(0, 1, 0, 0.5),  label='Erdos Graph');\n",
    "plt.legend()"
   ]
  },
  {
   "cell_type": "markdown",
   "metadata": {},
   "source": [
    "**The observation of the histogramm leads to the same conclusion as the KL divergence on Q7 : the degree distribution in our network is closer to the Barabasi-Albert model, than the Erdős–Rényi model.**\n",
    "\n",
    "**The Erdős–Rényi model is binomial, which means that for large N, a Poisson distribution is achieved. However, since the flight route network has a degree distribution which is not evenly distributed around the average degree, but which has a more heterogeneous distribution with some very large hubs, the Erdős–Rényi model is not a good choice.**\n",
    "\n",
    "**The Barabási-Albert model on the other hand, generates a scale-free network. The mechanism of preferential attachment implies that very large hubs appear, just as in a real-world flight route network.**"
   ]
  },
  {
   "cell_type": "markdown",
   "metadata": {},
   "source": [
    "### Question 9\n",
    "\n",
    "Imagine you got equal degree distributions. Would that guarantee you got the same graph? Explain."
   ]
  },
  {
   "cell_type": "markdown",
   "metadata": {},
   "source": [
    "\n",
    "**The degree distribution captures only a small amount of the network structure, as it ignores how the nodes are connected to each other.**\n",
    "\n",
    "**Hence, two equal degree distributions do not guarantee to get the same graph.**"
   ]
  },
  {
   "cell_type": "markdown",
   "metadata": {},
   "source": [
    "## Part 2\n",
    "\n",
    "**You are allowed to use any additional library here (e.g., NetworkX, PyGSP, etc.).** Be careful not to include something here and use it in part 1!"
   ]
  },
  {
   "cell_type": "code",
   "execution_count": 25,
   "metadata": {},
   "outputs": [],
   "source": [
    "import networkx as nx"
   ]
  },
  {
   "cell_type": "markdown",
   "metadata": {},
   "source": [
    "Creation of our real network, thanks to it adjacency matrix"
   ]
  },
  {
   "cell_type": "code",
   "execution_count": 26,
   "metadata": {},
   "outputs": [],
   "source": [
    "G_real = nx.from_numpy_array(adjacency)\n",
    "G_real.name = 'Real Graph'"
   ]
  },
  {
   "cell_type": "markdown",
   "metadata": {},
   "source": [
    "### Question 10\n",
    "\n",
    "Choose a random network model that fits you network well. Explain your choice. \n",
    "\n",
    "**Hint:** Check lecture notes for different network models and their properties. Your choice should be made based on at least one property you'd expect to be similar."
   ]
  },
  {
   "cell_type": "markdown",
   "metadata": {},
   "source": [
    "**Answer**\n",
    "\n",
    "Our network is well fitted by a network following a power law (Scale-Free Network): there are many nodes with only a few links, and a few hubs with large number of links.\n",
    "\n",
    "To create the random scale-free network, we first generate a power law sequence to model the degree distribution. Then, we apply the model of Chung and Lu which generates a random graph given a sequence of expected degrees."
   ]
  },
  {
   "cell_type": "markdown",
   "metadata": {},
   "source": [
    "### Question 11\n",
    "\n",
    "Explain (in short) how the chosen model works."
   ]
  },
  {
   "cell_type": "markdown",
   "metadata": {},
   "source": [
    "** Answer **\n",
    "\n",
    "In a scale-free network, the degree distribution follows a power law distribution $p_k$ of the following form: $p_k \\sim\\ k^{-\\gamma}$, where k is the degree and $\\gamma$ is the degree exponent. The degree of the biggest hub follows the expression:\n",
    "\n",
    "\\begin{equation}\n",
    "    k_{max} = k_{min} N ^{\\frac{1}{\\gamma -1}}\n",
    "\\end{equation}        \n",
    "where $k_{min}$ and $k_{max}$ are the smallest and biggest nodes, respectively.\n",
    "\n",
    "With the $\\lambda$ parameter, we generate a powerlaw sequence to model the degree distribution. Each node then has a weight $w_u$ assigned to it and we can define the average weight as follows:\n",
    "\n",
    "\\begin{equation}\n",
    "    \\bar{w} = \\sum\\nolimits_{u} \\frac{w_u}{N}.\n",
    "\\end{equation}\n",
    "\n",
    "\n",
    "In the Chung-Lu model, two nodes u and v with weights $w_u$ and $w_v$ are connected by an edge with probability:\n",
    "\n",
    "\\begin{equation}\n",
    "p_{u,v} = \\frac{w_u \\cdot w_v}{N \\cdot \\bar{w}}\n",
    "\\end{equation}\n",
    "\n",
    "The expecte degree of a node $u$ is:\n",
    "\\begin{equation}\n",
    "\\sum\\nolimits_{v \\neq u} \\frac{w_u \\cdot w_v}{N \\cdot \\bar{w}} = w_u - \\frac{w_u^2}{N \\cdot \\bar{w}}\n",
    "\\end{equation}\n",
    "which for a large number of nodes converges to $w_u$.\n",
    "\n",
    "*Reference*: Joel Miller and Aric Hagberg, Efficient generation of networks with given expected degrees, in Algorithms and Models for the Web-Graph (WAW 2011), Alan Frieze, Paul Horn, and Paweł Prałat (Eds), LNCS 6732, pp. 115-126, 2011.\n"
   ]
  },
  {
   "cell_type": "markdown",
   "metadata": {},
   "source": [
    "### Question 12\n",
    "\n",
    "**Answer** \n",
    "\n",
    "To create a random graph from the Chung-Lu model, we first need to select a $\\gamma$ that well approximates the degree distrubtion of our real graph. For this, we implement an optimisation algorithm that for a given range of gammas (here: 1.4 to 5) generates the power law sequence, constructs the random Chung-Lu graph model and calculates the KL divergence between the random and the real graph. We then choose the $\\gamma$ that results in the smallest KL divergence."
   ]
  },
  {
   "cell_type": "code",
   "execution_count": 27,
   "metadata": {},
   "outputs": [
    {
     "data": {
      "text/plain": [
       "[<matplotlib.lines.Line2D at 0x1633df588>]"
      ]
     },
     "execution_count": 27,
     "metadata": {},
     "output_type": "execute_result"
    },
    {
     "data": {
      "image/png": "[encoded data removed]",
      "text/plain": [
       "<Figure size 432x288 with 1 Axes>"
      ]
     },
     "metadata": {
      "needs_background": "light"
     },
     "output_type": "display_data"
    }
   ],
   "source": [
    "# Don't run this cell unless you want to rerun the optimisation\n",
    "\n",
    "# get the degree sequence of the real graph\n",
    "degree_sequence_real=sorted([v for k, v in nx.degree(G_real)],reverse=True) \n",
    "dist_real, bins = np.histogram(degree_sequence_real, bins = 50,range = (1., 248.) , density = True)\n",
    "\n",
    "# calculate the KL divergence for gamma in range 1.4 - 5\n",
    "KL = []\n",
    "gamma_range = np.linspace(1.4, 5, 20)\n",
    "for gamma in gamma_range:\n",
    "    KL_gamma = []\n",
    "    for i in range(100):\n",
    "        sequence = nx.utils.powerlaw_sequence(n_nodes, gamma) \n",
    "        G_scale_free = nx.expected_degree_graph(sequence, selfloops=False) # generates the graph\n",
    "        degree_sequence_random=sorted([v for k, v in nx.degree(G_scale_free)],reverse=True)\n",
    "        mini = min(degree_sequence_random)\n",
    "        maxi = max(degree_sequence_random)\n",
    "        dist_scale_free, bins = np.histogram(degree_sequence_random, bins = 50, density = True)\n",
    "        dist_real, bins = np.histogram(degree_sequence_real, bins = 50,range = (mini,maxi) , density = True)\n",
    "        KL_gamma.append(kl_divergence(dist_real, dist_scale_free))\n",
    "    KL.append(np.mean(KL_gamma))\n",
    "\n",
    "plt.plot(gamma_range, KL)"
   ]
  },
  {
   "cell_type": "code",
   "execution_count": 28,
   "metadata": {},
   "outputs": [
    {
     "data": {
      "text/plain": [
       "1.4"
      ]
     },
     "execution_count": 28,
     "metadata": {},
     "output_type": "execute_result"
    }
   ],
   "source": [
    "# optimal gamma\n",
    "gamma_range[np.argmin(KL)]"
   ]
  },
  {
   "cell_type": "code",
   "execution_count": 29,
   "metadata": {},
   "outputs": [],
   "source": [
    "# generate a random graph with that gamma\n",
    "sequence = nx.utils.powerlaw_sequence(n_nodes, gamma_range[np.argmin(KL)]) # generates power law sequence with the best gamma\n",
    "G_scale_free = nx.expected_degree_graph(sequence, selfloops=False) # generates the graph with the Chung-Lu model\n",
    "G_scale_free.name = 'Scale Free Graph'"
   ]
  },
  {
   "cell_type": "markdown",
   "metadata": {},
   "source": [
    "### Question 13\n",
    "\n",
    "Check the properties you expected to be similar, and compare to your network."
   ]
  },
  {
   "cell_type": "code",
   "execution_count": 30,
   "metadata": {},
   "outputs": [
    {
     "name": "stdout",
     "output_type": "stream",
     "text": [
      "Name: Real Graph\n",
      "Type: Graph\n",
      "Number of nodes: 3425\n",
      "Number of edges: 19257\n",
      "Average degree:  11.2450\n",
      "Maximum degree: 248\n",
      "Density: 0.0032841599017668327\n",
      "\n",
      "Name: Scale Free Graph\n",
      "Type: Graph\n",
      "Number of nodes: 3425\n",
      "Number of edges: 25218\n",
      "Average degree:  14.7258\n",
      "Maximum degree: 3190\n",
      "Density: 0.0043007708574936895\n"
     ]
    },
    {
     "data": {
      "image/png": "[encoded data removed]",
      "text/plain": [
       "<Figure size 864x360 with 2 Axes>"
      ]
     },
     "metadata": {
      "needs_background": "light"
     },
     "output_type": "display_data"
    }
   ],
   "source": [
    "#derive degree sequences\n",
    "degree_sequence_real=sorted([v for k, v in nx.degree(G_real)],reverse=True) \n",
    "degree_sequence_random=sorted([v for k, v in nx.degree(G_scale_free)],reverse=True) \n",
    "\n",
    "#Comparaison of graphs properties\n",
    "print(nx.info(G_real))\n",
    "print(\"Maximum degree: \" + str(max(degree_sequence_real)) +\"\\nDensity: \" + str(nx.density(G_real)))\n",
    "print()\n",
    "print(nx.info(G_scale_free))\n",
    "print(\"Maximum degree: \" + str(max(degree_sequence_random)) +\"\\nDensity: \" + str(nx.density(G_scale_free)))\n",
    "\n",
    "fig, ax= plt.subplots(1,2, figsize=(12,5))\n",
    "ax[0].hist(degree_sequence_real, bins = 50, range = (0,200), density = True)\n",
    "ax[1].hist(degree_sequence_random, bins = 50,range = (0,200), density = True)\n",
    "\n",
    "\n",
    "ax[0].set_title('Real graph', fontsize = 14)\n",
    "ax[1].set_title('Scale-free graph', fontsize = 14)\n",
    "ax[0].set_xlabel('Degree')\n",
    "ax[0].set_ylabel('Probability')\n",
    "ax[1].set_xlabel('Degree')\n",
    "ax[1].set_ylabel('Probability')\n",
    "plt.suptitle('Degree distribution, gamma =  {0}'.format(gamma_range[np.argmin(KL)]), fontsize = 18)\n",
    "\n",
    "plt.show()"
   ]
  },
  {
   "cell_type": "markdown",
   "metadata": {},
   "source": [
    "Are the results what you expected? Explain."
   ]
  },
  {
   "cell_type": "markdown",
   "metadata": {},
   "source": [
    "**Answer** \n",
    "\n",
    "The results are as expected according to the parameter $\\gamma$ generated from the optimisation algorithm. The two graphs are very similar: the KL divergence is almost zero, and the number of edges, the average degree, as well as the graph density are very similar between the two graphs. The only big difference is the degree of the largest hub (2660 vs 248) which is a consequence of the long tail of the power law distribution. While the degree distribution of the real graph well approximates a power law for low degrees, it has a much shorter tail. Given the real-world nature of the flight route network, it is not striking that there is a limit to the size and connectedness of an airport. In addition, taking into consideration the distances between airports, it is not necessarily optimal to have very big airports connected to smaller airports with long distance flights that are located close to each other.\n",
    "\n",
    "\n",
    "We conclude that the random generated graph from the Chung-Lu model given a powerlaw distribution fits our real graph better than Barabasi-Albert model."
   ]
  },
  {
   "cell_type": "code",
   "execution_count": null,
   "metadata": {},
   "outputs": [],
   "source": []
  }
 ],
 "metadata": {
  "kernelspec": {
   "display_name": "Python 3",
   "language": "python",
   "name": "python3"
  },
  "language_info": {
   "codemirror_mode": {
    "name": "ipython",
    "version": 3
   },
   "file_extension": ".py",
   "mimetype": "text/x-python",
   "name": "python",
   "nbconvert_exporter": "python",
   "pygments_lexer": "ipython3",
   "version": "3.7.0"
  }
 },
 "nbformat": 4,
 "nbformat_minor": 2
}
