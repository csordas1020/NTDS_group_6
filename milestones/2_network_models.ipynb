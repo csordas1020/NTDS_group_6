{
 "cells": [
  {
   "cell_type": "markdown",
   "metadata": {},
   "source": [
    "# [NTDS'18] milestone 2: network models\n",
    "[ntds'18]: https://github.com/mdeff/ntds_2018\n",
    "\n",
    "[Hermina Petric Maretic](https://people.epfl.ch/hermina.petricmaretic), [EPFL LTS4](https://lts4.epfl.ch)"
   ]
  },
  {
   "cell_type": "markdown",
   "metadata": {},
   "source": [
    "## Students\n",
    "\n",
    "* Team: `<your team number>`\n",
    "* Students: `<the name of all students in the team>`\n",
    "* Dataset: `<the dataset you used to complete the milestone>`"
   ]
  },
  {
   "cell_type": "markdown",
   "metadata": {},
   "source": [
    "## Rules\n",
    "\n",
    "* Milestones have to be completed by teams. No collaboration between teams is allowed.\n",
    "* Textual answers shall be short. Typically one to two sentences.\n",
    "* Code has to be clean.\n",
    "* In the first part, you cannot import any other library than we imported. In the second part, you are allowed to import any library you want.\n",
    "* When submitting, the notebook is executed and the results are stored. I.e., if you open the notebook again it should show numerical results and plots. We won't be able to execute your notebooks.\n",
    "* The notebook is re-executed from a blank state before submission. That is to be sure it is reproducible. You can click \"Kernel\" then \"Restart & Run All\" in Jupyter."
   ]
  },
  {
   "cell_type": "markdown",
   "metadata": {},
   "source": [
    "## Objective\n",
    "\n",
    "The purpose of this milestone is to explore various random network models, analyse their properties and compare them to your network. In the first part of the milestone you will implement two random graph models and try to fit them to your network. In this part you are not allowed to use any additional package. In the second part of the milestone you will choose a third random graph model that you think shares some properties with your network. You will be allowed to use additional packages to construct this network, but you must explain your network choice. Finally, make your code as clean as possible, and keep your textual answers short."
   ]
  },
  {
   "cell_type": "markdown",
   "metadata": {},
   "source": [
    "## Part 0\n",
    "\n",
    "Import the adjacency matrix of your graph that you constructed in milestone 1, as well as the number of nodes and edges of your network."
   ]
  },
  {
   "cell_type": "code",
   "execution_count": 5,
   "metadata": {},
   "outputs": [],
   "source": [
    "adjacency =  np.load('adjacency_unweighted.npy'); # the adjacency matrix\n",
    "n_nodes =  len(adjacency); # the number of nodes in the network\n",
    "n_edges =  1/2 * np.count_nonzero(adjacency); # the number of edges in the network"
   ]
  },
  {
   "cell_type": "markdown",
   "metadata": {},
   "source": [
    "## Part 1\n",
    "\n",
    "**For the computation of this part of the milestone you are only allowed to use the packages that have been imported in the cell below.**"
   ]
  },
  {
   "cell_type": "code",
   "execution_count": 4,
   "metadata": {},
   "outputs": [],
   "source": [
    "%matplotlib inline\n",
    "\n",
    "import random\n",
    "\n",
    "import numpy as np\n",
    "import pandas as pd\n",
    "import matplotlib.pyplot as plt\n",
    "import scipy"
   ]
  },
  {
   "cell_type": "markdown",
   "metadata": {},
   "source": [
    "### Question 1\n",
    "\n",
    "Create a function that constructs an Erdős–Rényi graph."
   ]
  },
  {
   "cell_type": "code",
   "execution_count": null,
   "metadata": {},
   "outputs": [],
   "source": [
    "def erdos_renyi(n, p, seed=None):\n",
    "    \"\"\"Create an instance from the Erdos-Renyi graph model.\n",
    "    \n",
    "    Parameters\n",
    "    ----------\n",
    "    n: int\n",
    "        Size of the graph.\n",
    "    p: float\n",
    "        Edge probability. A number between 0 and 1.\n",
    "    seed: int (optional)\n",
    "        Seed for the random number generator. To get reproducible results.\n",
    "    \n",
    "    Returns\n",
    "    -------\n",
    "    adjacency\n",
    "        The adjacency matrix of a graph.\n",
    "    \"\"\"\n",
    "    \n",
    "    # Your code here.\n",
    "    \n",
    "    return adjacency"
   ]
  },
  {
   "cell_type": "code",
   "execution_count": null,
   "metadata": {},
   "outputs": [],
   "source": [
    "er = erdos_renyi(5, 0.6, 9765)\n",
    "plt.spy(er)\n",
    "plt.title('Erdos-Renyi (5, 0.6)')"
   ]
  },
  {
   "cell_type": "code",
   "execution_count": null,
   "metadata": {},
   "outputs": [],
   "source": [
    "er = erdos_renyi(10, 0.4, 7648)\n",
    "plt.spy(er)\n",
    "plt.title('Erdos-Renyi (10, 0.4)')"
   ]
  },
  {
   "cell_type": "markdown",
   "metadata": {},
   "source": [
    "### Question 2\n",
    "\n",
    "Use the function to create a random Erdos-Renyi graph. Choose the parameters such that number of nodes is the same as in your graph, and the number of edges similar. You don't need to set the random seed. Comment on your choice of parameters."
   ]
  },
  {
   "cell_type": "code",
   "execution_count": null,
   "metadata": {},
   "outputs": [],
   "source": [
    "# Your code here."
   ]
  },
  {
   "cell_type": "markdown",
   "metadata": {},
   "source": [
    "**Your answer here.**"
   ]
  },
  {
   "cell_type": "markdown",
   "metadata": {},
   "source": [
    "### Question 3\n",
    "\n",
    "Create a function that constructs a Barabási-Albert graph."
   ]
  },
  {
   "cell_type": "code",
   "execution_count": null,
   "metadata": {},
   "outputs": [],
   "source": [
    "def barabasi_albert(n, m, seed=None):\n",
    "    \"\"\"Create an instance from the Barabasi-Albert graph model.\n",
    "    \n",
    "    Parameters\n",
    "    ----------\n",
    "    n: int\n",
    "        Size of the graph.\n",
    "    m: int\n",
    "        Number of edges to attach from a new node to existing nodes.\n",
    "    seed: int (optional)\n",
    "        Seed for the random number generator. To get reproducible results.\n",
    "    \n",
    "    Returns\n",
    "    -------\n",
    "    adjacency\n",
    "        The adjacency matrix of a graph.\n",
    "    \"\"\"\n",
    "    \n",
    "    # Your code here.\n",
    "    \n",
    "    return adjacency"
   ]
  },
  {
   "cell_type": "code",
   "execution_count": null,
   "metadata": {},
   "outputs": [],
   "source": [
    "ba = barabasi_albert(5, 1, 9087)\n",
    "plt.spy(ba)\n",
    "plt.title('Barabasi-Albert (5, 1)')"
   ]
  },
  {
   "cell_type": "code",
   "execution_count": null,
   "metadata": {},
   "outputs": [],
   "source": [
    "ba = barabasi_albert(10, 2, 8708)\n",
    "plt.spy(ba)\n",
    "plt.title('Barabasi-Albert (10, 2)')"
   ]
  },
  {
   "cell_type": "markdown",
   "metadata": {},
   "source": [
    "### Question 4\n",
    "\n",
    "Use the function to create a random Barabási-Albert graph. Choose the parameters such that number of nodes is the same as in your graph, and the number of edges similar. You don't need to set the random seed. Comment on your choice of parameters."
   ]
  },
  {
   "cell_type": "code",
   "execution_count": null,
   "metadata": {},
   "outputs": [],
   "source": [
    "# Your code here."
   ]
  },
  {
   "cell_type": "markdown",
   "metadata": {},
   "source": [
    "**Your answer here**"
   ]
  },
  {
   "cell_type": "markdown",
   "metadata": {},
   "source": [
    "### Question 5\n",
    "\n",
    "Compare the number of edges in all three networks (your real network, the Erdős–Rényi network, and the Barabási-Albert netowk)."
   ]
  },
  {
   "cell_type": "code",
   "execution_count": null,
   "metadata": {},
   "outputs": [],
   "source": [
    "# Your code here."
   ]
  },
  {
   "cell_type": "markdown",
   "metadata": {},
   "source": [
    "### Question 6\n",
    "\n",
    "Implement a function that computes the [Kullback–Leibler (KL) divergence](https://en.wikipedia.org/wiki/Kullback%E2%80%93Leibler_divergence) between two probability distributions.\n",
    "We'll use it to compare the degree distributions of networks."
   ]
  },
  {
   "cell_type": "code",
   "execution_count": null,
   "metadata": {},
   "outputs": [],
   "source": [
    "def kl_divergence(p, q):\n",
    "    \"\"\"Compute the KL divergence between probability distributions of degrees of two networks.\n",
    "    \n",
    "    Parameters\n",
    "    ----------\n",
    "    p: np.array\n",
    "        Probability distribution of degrees of the 1st graph.\n",
    "    q: np.array\n",
    "        Probability distribution of degrees of the 2nd graph.\n",
    "    \n",
    "    Returns\n",
    "    -------\n",
    "    kl\n",
    "        The KL divergence between the two distributions.\n",
    "    \"\"\"\n",
    "    \n",
    "    # Your code here.\n",
    "    \n",
    "    return kl"
   ]
  },
  {
   "cell_type": "code",
   "execution_count": null,
   "metadata": {},
   "outputs": [],
   "source": [
    "p_test = np.array([0.2, 0.2, 0.2, 0.4])\n",
    "q_test = np.array([0.3, 0.3, 0.1, 0.3])\n",
    "kl_divergence(p_test, q_test)"
   ]
  },
  {
   "cell_type": "markdown",
   "metadata": {},
   "source": [
    "### Question 7\n",
    "\n",
    "Compare the degree distribution of your network to each of the two synthetic ones, in terms of KL divergence. **Hint:** Make sure you normalise your degree distributions to make them valid probability distributions."
   ]
  },
  {
   "cell_type": "code",
   "execution_count": null,
   "metadata": {},
   "outputs": [],
   "source": [
    "# Your code here."
   ]
  },
  {
   "cell_type": "markdown",
   "metadata": {},
   "source": [
    "**Answer**\n",
    "\n",
    "The degree distribution in our network is closer to the Barabasi-Albert model, than the Erdős–Rényi model. The Erdős–Rényi model is binomial, which means that for large N, a Poisson distribution is achieved. However, since the flight route network has a degree distribution which is not evenly distributed around the average degree, but which has a more heterogeneous distribution with some very large hubs, the Erdős–Rényi model is not a good choice.\n",
    "\n",
    "The Barabási-Albert model on the other hand, generates a scale-free network. The mechanism of preferential attachment implies that very large hubs appear, just as in a real-world flight route network. "
   ]
  },
  {
   "cell_type": "markdown",
   "metadata": {},
   "source": [
    "### Question 8\n",
    "\n",
    "Plot the degree distribution historgrams for all three networks. Are they consistent with the KL divergence results? Explain."
   ]
  },
  {
   "cell_type": "code",
   "execution_count": null,
   "metadata": {},
   "outputs": [],
   "source": [
    "# Your code here."
   ]
  },
  {
   "cell_type": "markdown",
   "metadata": {},
   "source": [
    "**Your answer here.**"
   ]
  },
  {
   "cell_type": "markdown",
   "metadata": {},
   "source": [
    "### Question 9\n",
    "\n",
    "Imagine you got equal degree distributions. Would that guarantee you got the same graph? Explain."
   ]
  },
  {
   "cell_type": "markdown",
   "metadata": {},
   "source": [
    "**Your answer here.**"
   ]
  },
  {
   "cell_type": "markdown",
   "metadata": {},
   "source": [
    "## Part 2\n",
    "\n",
    "**You are allowed to use any additional library here (e.g., NetworkX, PyGSP, etc.).** Be careful not to include something here and use it in part 1!"
   ]
  },
  {
   "cell_type": "code",
   "execution_count": 1,
   "metadata": {},
   "outputs": [],
   "source": [
    "import networkx as nx "
   ]
  },
  {
   "cell_type": "markdown",
   "metadata": {},
   "source": [
    "### Question 10\n",
    "\n",
    "Choose a random network model that fits you network well. Explain your choice. \n",
    "\n",
    "**Hint:** Check lecture notes for different network models and their properties. Your choice should be made based on at least one property you'd expect to be similar."
   ]
  },
  {
   "cell_type": "markdown",
   "metadata": {},
   "source": [
    "**Answer** \n",
    "\n",
    "Our network is well fitted by a network following a power law (Scale-Free Network): there are many nodes with only a few links, and a few hubs with large number of links. To create the random scale-free network, we first generate a power law sequence to model the degree distribution. Then, we apply the **model of Chung and Lu** which generates a random graph given a sequence of expected degrees. "
   ]
  },
  {
   "cell_type": "markdown",
   "metadata": {},
   "source": [
    "### Question 11\n",
    "\n",
    "Explain (in short) how the chosen model works."
   ]
  },
  {
   "cell_type": "markdown",
   "metadata": {},
   "source": [
    "**Answer** \n",
    "\n",
    "In a scale-free network, the degree distribution follows a power law distribution $p_k$ of the following form: $p_k \\sim\\ k^{-\\gamma}$, where k is the degree and $\\gamma$ is the degree exponent. The degree of the biggest hub follows the expression: \n",
    "\n",
    "\\begin{equation}\n",
    "    k_{max} = k_{min} N ^{\\frac{1}{\\gamma -1}}\n",
    "\\end{equation}        \n",
    "where $k_{min}$ and $k_{max}$ are the smallest and biggest nodes, respectively. \n",
    "\n",
    "With the $\\lambda$ parameter we generate a powerlaw sequence to model the degree distribution. Each node then has a weight $w_u$ assigned to it and we can define the average weight as follows: \n",
    "\n",
    "\\begin{equation}\n",
    "    \\bar{w} = \\sum\\nolimits_{u} \\frac{w_u}{N}.\n",
    "\\end{equation}\n",
    "\n",
    "\n",
    "In the Chung-Lu model, two nodes u and v with weights $w_u$ and $w_v$ are connected by an edge with probability:\n",
    "\n",
    "\\begin{equation}\n",
    "p_{u,v} = \\frac{w_u \\cdot w_v}{N \\cdot \\bar{w}}\n",
    "\\end{equation}\n",
    "\n",
    "The expecte degree of a node $u$ is:\n",
    "\\begin{equation}\n",
    "\\sum\\nolimits_{v \\neq u} \\frac{w_u \\cdot w_v}{N \\cdot \\bar{w}} = w_u - \\frac{w_u^2}{N \\cdot \\bar{w}}\n",
    "\\end{equation}\n",
    "which for a large number of nodes converges to $w_u$. \n",
    "\n",
    "*Reference*: Joel Miller and Aric Hagberg, Efficient generation of networks with given expected degrees, in Algorithms and Models for the Web-Graph (WAW 2011), Alan Frieze, Paul Horn, and Paweł Prałat (Eds), LNCS 6732, pp. 115-126, 2011.\n"
   ]
  },
  {
   "cell_type": "markdown",
   "metadata": {},
   "source": [
    "### Question 12\n",
    "\n",
    "**Answer** To create a random graph from the Chung-Lu model, we first need to select a $\\gamma$ that well approximates the degree distrubtion of our real graph. For this, we implement an optimisation algorithm that for a given range of gammas (here: 1.4 to 5) generates the power law sequence, constructs the random Chung-Lu graph model and calculates the KL divergence between the random and the real graph. We then choose the $\\gamma$ that results in the smallest KL divergence. "
   ]
  },
  {
   "cell_type": "code",
   "execution_count": 150,
   "metadata": {},
   "outputs": [],
   "source": [
    "sequence = nx.utils.powerlaw_sequence(n_nodes, 2) # generates power law sequence with gamma = 2\n",
    "G_scale_free = nx.expected_degree_graph(sequence, selfloops=False) # generates the graph\n",
    "G_scale_free.name = 'Scale Free Graph'"
   ]
  },
  {
   "cell_type": "markdown",
   "metadata": {},
   "source": [
    "### Question 13\n",
    "\n",
    "Check the properties you expected to be similar, and compare to your network."
   ]
  },
  {
   "cell_type": "code",
   "execution_count": 152,
   "metadata": {
    "scrolled": false
   },
   "outputs": [
    {
     "name": "stdout",
     "output_type": "stream",
     "text": [
      "Name: Real Graph\n",
      "Type: Graph\n",
      "Number of nodes: 3425\n",
      "Number of edges: 19257\n",
      "Average degree:  11.2450\n",
      "Maximum degree: 248\n",
      "Density: 0.0032841599017668327\n",
      "\n",
      "Name: Scale Free Graph\n",
      "Type: Graph\n",
      "Number of nodes: 3425\n",
      "Number of edges: 9167\n",
      "Average degree:   5.3530\n",
      "Maximum degree: 2660\n",
      "Density: 0.0015633740364281328\n"
     ]
    },
    {
     "data": {
      "image/png": "[encoded data removed]",
      "text/plain": [
       "<matplotlib.figure.Figure at 0x151ed61400>"
      ]
     },
     "metadata": {},
     "output_type": "display_data"
    }
   ],
   "source": [
    "#Creation of our real network, thanks to adjacency matrix\n",
    "G_real = nx.from_numpy_array(adjacency)\n",
    "G_real.name = 'Real Graph'\n",
    "\n",
    "#derive degree sequences\n",
    "degree_sequence_real=sorted([v for k, v in nx.degree(G_real)],reverse=True) \n",
    "degree_sequence_random=sorted([v for k, v in nx.degree(G_scale_free)],reverse=True) \n",
    "\n",
    "#Comparaison of graphs properties\n",
    "print(nx.info(G_real))\n",
    "print(\"Maximum degree: \" + str(max(degree_sequence_real)) +\"\\nDensity: \" + str(nx.density(G_real)))\n",
    "print()\n",
    "print(nx.info(G_scale_free))\n",
    "print(\"Maximum degree: \" + str(max(degree_sequence_random)) +\"\\nDensity: \" + str(nx.density(G_scale_free)))\n",
    "\n",
    "fig, ax= plt.subplots(1,2, figsize=(12,5))\n",
    "ax[0].hist(degree_sequence_real, bins = 50)\n",
    "ax[1].hist(degree_sequence_random, bins = 50)\n",
    "\n",
    "\n",
    "ax[0].set_title('Real graph', fontsize = 14)\n",
    "ax[1].set_title('Scale-free graph', fontsize = 14)\n",
    "ax[0].set_xlabel('Degree')\n",
    "ax[0].set_ylabel('Count')\n",
    "ax[1].set_xlabel('Degree')\n",
    "ax[1].set_ylabel('Count')\n",
    "plt.suptitle('Degree distribution, gamma = 2', fontsize = 18)\n",
    "\n",
    "plt.show()\n"
   ]
  },
  {
   "cell_type": "markdown",
   "metadata": {},
   "source": [
    "Are the results what you expected? Explain."
   ]
  },
  {
   "cell_type": "markdown",
   "metadata": {},
   "source": [
    "**Answer** The results are as expected according to the parameter $\\gamma$ generated from the optimisation algorithm. The two graphs are very similar: the KL divergence is almost zero, and the number of edges, the average degree, as well as the graph density are very similar between the two graphs. The only big difference is the degree of the largest hub (2660 vs 248) which is a consequence of the long tail of the power law distribution. While the degree distribution of the real graph well approximates a power law for low degrees, it has a much shorter tail. Given the real-world nature of the flight route network, it is not striking that there is a limit to the size and connectedness of an airport. In addition, taking into consideration the distances between airports, it is not necessarily optimal to have very big airports connected to smaller airports with long distance flights that are located close to each other. \n",
    "\n",
    "We conclude that the random generated graph from the Chung-Lu model given a powerlaw distribution fits our real graph better than Barabasi-Albert model.  "
   ]
  }
 ],
 "metadata": {
  "kernelspec": {
   "display_name": "Python 3",
   "language": "python",
   "name": "python3"
  },
  "language_info": {
   "codemirror_mode": {
    "name": "ipython",
    "version": 3
   },
   "file_extension": ".py",
   "mimetype": "text/x-python",
   "name": "python",
   "nbconvert_exporter": "python",
   "pygments_lexer": "ipython3",
   "version": "3.6.4"
  }
 },
 "nbformat": 4,
 "nbformat_minor": 2
}
